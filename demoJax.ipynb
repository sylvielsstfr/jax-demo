{
 "cells": [
  {
   "cell_type": "markdown",
   "id": "e1952821",
   "metadata": {},
   "source": [
    "# Demo for JAX use\n",
    "\n",
    "**Kernel locally : jaxkernel**"
   ]
  },
  {
   "cell_type": "code",
   "execution_count": 1,
   "id": "b1a190bf",
   "metadata": {},
   "outputs": [],
   "source": [
    "import jax\n",
    "import jax.numpy as jnp\n",
    "from jax import grad, jit, vmap\n",
    "from jax import jacfwd, jacrev, hessian\n",
    "from jax.ops import index, index_update\n",
    "import numpy as np\n",
    "import matplotlib as mpl\n",
    "import matplotlib.pyplot as plt\n",
    "mpl.rc('image', cmap='jet')\n",
    "mpl.rcParams['font.size'] = 18\n",
    "mpl.rcParams[\"font.family\"] = \"Times New Roman\""
   ]
  },
  {
   "cell_type": "code",
   "execution_count": 2,
   "id": "5d5406b1-76a7-4a61-97da-14336c615e70",
   "metadata": {},
   "outputs": [],
   "source": [
    "#pip install --upgrade \"jax[cpu]\""
   ]
  },
  {
   "cell_type": "code",
   "execution_count": 3,
   "id": "9c959d1c-7718-44f0-badc-a415b124a38f",
   "metadata": {},
   "outputs": [
    {
     "data": {
      "text/plain": [
       "'0.2.24'"
      ]
     },
     "execution_count": 3,
     "metadata": {},
     "output_type": "execute_result"
    }
   ],
   "source": [
    "jax.__version__"
   ]
  },
  {
   "cell_type": "markdown",
   "id": "4772f69c-57d6-4019-9335-dbfb11244106",
   "metadata": {},
   "source": [
    "# Premiers pas"
   ]
  },
  {
   "cell_type": "markdown",
   "id": "7fb83c28",
   "metadata": {},
   "source": [
    "Dans un premier temps, si ce n’est pas déjà fait pour vous par le système, il faut\n",
    "s’installer une version 10 de la librairie via\n",
    "       pip i n s t a l l −−upgrade jax j a x l i b\n",
    "Dans ce contexte seule la version CPU s’exécutera par la suite. Pour obtenir la version\n",
    "GPU, il est préférable de se renseigner sur la version de CUDA en vigueur, puis faire par\n",
    "exemple au CCIn2p3:\n",
    "       pip i n s t a l l −−upgrade jax j a x l i b ==0.1.71+cuda102 −f\n",
    "       \n",
    "https : / / s t o r a g e . g o o g l e a p i s . com/ jax−r e l e a s e s / j a x_r e l e a s e s . html"
   ]
  },
  {
   "cell_type": "markdown",
   "id": "420be76a",
   "metadata": {},
   "source": [
    "Notez qu’outre la partie JAX, j’ai importé également les 2 librairies traditionnelles d’un\n",
    "utilisateur lambda. L’extension Numpy de JAX n’est pas un simple \"enrobage\" mais les\n",
    "mêmes APIs permettent d’utiliser aussi facilement la version JAX pour la quasi-totalité\n",
    "des fonctions. Créons deux vecteurs par exemple"
   ]
  },
  {
   "cell_type": "code",
   "execution_count": 4,
   "id": "ae3c81e8-b926-4be9-b696-f445ac381b59",
   "metadata": {},
   "outputs": [
    {
     "name": "stderr",
     "output_type": "stream",
     "text": [
      "WARNING:absl:No GPU/TPU found, falling back to CPU. (Set TF_CPP_MIN_LOG_LEVEL=0 and rerun for more info.)\n"
     ]
    }
   ],
   "source": [
    "x = np.linspace(0 ,1 ,10) \n",
    "y = jnp.linspace(0 ,2 ,10)"
   ]
  },
  {
   "cell_type": "markdown",
   "id": "08df9c19",
   "metadata": {},
   "source": [
    "A part le \"j\", rien ne différencie les deux lignes qui définissent les deux vecteurs x et y. Ce\n",
    "qui change donc c’est leurs représentations internes:"
   ]
  },
  {
   "cell_type": "code",
   "execution_count": 5,
   "id": "da512c73-7552-4bb1-998c-38c6bd7c8e0b",
   "metadata": {},
   "outputs": [
    {
     "data": {
      "text/plain": [
       "(array([0.        , 0.11111111, 0.22222222, 0.33333333, 0.44444444,\n",
       "        0.55555556, 0.66666667, 0.77777778, 0.88888889, 1.        ]),\n",
       " DeviceArray([0.        , 0.22222222, 0.44444445, 0.6666667 , 0.8888889 ,\n",
       "              1.1111112 , 1.3333334 , 1.5555556 , 1.7777778 , 2.        ],            dtype=float32))"
      ]
     },
     "execution_count": 5,
     "metadata": {},
     "output_type": "execute_result"
    }
   ],
   "source": [
    "x,y"
   ]
  },
  {
   "cell_type": "markdown",
   "id": "9792c6bc",
   "metadata": {},
   "source": [
    "Numpy. Notez que le type par défaut est float32, si besoin pour passer en 64-bits il faut\n",
    "procéder à l’édition d’une variable d’environnement avant l’importation des librairies 11\n",
    "\n",
    "         import os\n",
    "         os.environ [ 'JAX_ENABLE_X64 ' ]= 'True '"
   ]
  },
  {
   "cell_type": "markdown",
   "id": "45c33c8b",
   "metadata": {},
   "source": [
    "Les DeviceArrays permettent à JAX de procéder aux suivis des dépendances des variables\n",
    "et l’optimisation du code pour les différents types de hardwares.\n",
    "Une chose qui peut dérouter le premier contact avec les DeviceArrays de JAX quand\n",
    "on est habitué à la librairie Numpy, est la chose suivante que l’on peut constater avec les\n",
    "vecteurs x et y définis ci-dessus. S’il est simple de changer le signe de x[1] par contre si\n",
    "l’on fait"
   ]
  },
  {
   "cell_type": "code",
   "execution_count": 6,
   "id": "e736c321-f6de-4e84-8330-c0e5efe931c6",
   "metadata": {},
   "outputs": [],
   "source": [
    "#y[1] *= -1"
   ]
  },
  {
   "cell_type": "markdown",
   "id": "23b4ae51",
   "metadata": {},
   "source": [
    "alors on tombe sur une erreur"
   ]
  },
  {
   "cell_type": "markdown",
   "id": "cc924c1a",
   "metadata": {},
   "source": [
    "La solution immédiate est de bien entendu d’aller lire la page web suggérée. Ainsi, on\n",
    "trouve la solution suivante"
   ]
  },
  {
   "cell_type": "code",
   "execution_count": 7,
   "id": "10e49819-7f89-4fb6-b0f1-0836026fea77",
   "metadata": {},
   "outputs": [],
   "source": [
    "y = y.at[1].mul(-1)"
   ]
  },
  {
   "cell_type": "code",
   "execution_count": 8,
   "id": "e3e04deb-c136-42e3-ad5d-8884a398d4b9",
   "metadata": {},
   "outputs": [
    {
     "data": {
      "text/plain": [
       "DeviceArray([ 0.        , -0.22222222,  0.44444445,  0.6666667 ,\n",
       "              0.8888889 ,  1.1111112 ,  1.3333334 ,  1.5555556 ,\n",
       "              1.7777778 ,  2.        ], dtype=float32)"
      ]
     },
     "execution_count": 8,
     "metadata": {},
     "output_type": "execute_result"
    }
   ],
   "source": [
    "y"
   ]
  },
  {
   "cell_type": "markdown",
   "id": "b28fcd77",
   "metadata": {},
   "source": [
    "Mais si la syntaxe est rébarbative, c’est pour la simple est bonne raison que les tableaux\n",
    "DeviceArrays sont des immutables (ie. ne peuvent être modifiés une fois créés), ce qui\n",
    "suggère qu’il faut sans doute penser autrement la manipulation des tableaux. Il en est de\n",
    "même avec les fonctions, lesquelles pour JAX doivent être des fonctions sans effets de bords\n",
    "(ce qui entre parenthèses n’est pas plus mal pour éviter des chausse-trapes pythonesques)."
   ]
  },
  {
   "cell_type": "markdown",
   "id": "cbc6634b",
   "metadata": {},
   "source": [
    "Une fois passer cette difficulté, on peut employer les DeviceArrays comme on le fait\n",
    "avec les tableaux Numpy par exemple comme arguments de fonctions matplotlib:"
   ]
  },
  {
   "cell_type": "code",
   "execution_count": 9,
   "id": "86738265-7d80-43ac-8a72-71e8c7bd60ce",
   "metadata": {},
   "outputs": [
    {
     "data": {
      "text/plain": [
       "<matplotlib.collections.PathCollection at 0x7fa84594d8e0>"
      ]
     },
     "execution_count": 9,
     "metadata": {},
     "output_type": "execute_result"
    },
    {
     "data": {
      "image/png": "[encoded data removed]",
      "text/plain": [
       "<Figure size 432x288 with 1 Axes>"
      ]
     },
     "metadata": {
      "needs_background": "light"
     },
     "output_type": "display_data"
    }
   ],
   "source": [
    "plt.scatter(x,y)"
   ]
  },
  {
   "cell_type": "markdown",
   "id": "02372e9d-91f0-46d9-8498-130b89e7a6be",
   "metadata": {},
   "source": [
    "# Variations autour d'une fonction simple"
   ]
  },
  {
   "cell_type": "markdown",
   "id": "c5ef1b5d",
   "metadata": {},
   "source": [
    "Avec un logiciel symbolique, il est simple d’obtenir les expressions des dérivées successives\n",
    "f0(x) et f00(x), que je ne donne pas mais qui sont notées fp(x) et fpp(x) dans le listing\n",
    "ci-dessous. Avec JAX certes les expressions analytiques ne sont pas accessibles, mais il est\n",
    "très simple par contre d’obtenir les graphes de ces fonctions (Fig. 1):"
   ]
  },
  {
   "cell_type": "markdown",
   "id": "dfdcf05b",
   "metadata": {},
   "source": [
    "$$\n",
    "f(x)= e^{-x/2}\\sin(x)\n",
    "$$"
   ]
  },
  {
   "cell_type": "markdown",
   "id": "f8daf0a3-4f27-4940-ad04-56263b561dc6",
   "metadata": {},
   "source": [
    "## Dérivées successives"
   ]
  },
  {
   "cell_type": "code",
   "execution_count": 10,
   "id": "c4cfaa5d-212a-4429-9b94-86cf20e2d253",
   "metadata": {},
   "outputs": [],
   "source": [
    "def f(x):\n",
    "    return jnp.exp(-x*0.5)*jnp.sin(x)"
   ]
  },
  {
   "cell_type": "code",
   "execution_count": 11,
   "id": "5e07a143-5e23-42ca-aeac-08aebcccb61a",
   "metadata": {},
   "outputs": [],
   "source": [
    "def fp(x):\n",
    "    return jnp.exp(-x*0.5)*(2.*jnp.cos(x)-jnp.sin(x))/2.\n",
    "def fpp(x):\n",
    "    return -jnp.exp(-x*0.5)*(4.*jnp.cos(x)+3.*jnp.sin(x))/4."
   ]
  },
  {
   "cell_type": "code",
   "execution_count": 12,
   "id": "d00c9864-b756-4ab9-ad9a-9676152e5b5f",
   "metadata": {},
   "outputs": [],
   "source": [
    "jfp  = jax.vmap(lambda t:grad(f)(t))\n",
    "jfpp = jax.vmap(lambda t:grad(grad(f))(t))"
   ]
  },
  {
   "cell_type": "code",
   "execution_count": 13,
   "id": "deee2d58-5b80-4616-b841-b70223a0922c",
   "metadata": {},
   "outputs": [
    {
     "data": {
      "image/png": "[encoded data removed]",
      "text/plain": [
       "<Figure size 576x432 with 1 Axes>"
      ]
     },
     "metadata": {
      "needs_background": "light"
     },
     "output_type": "display_data"
    }
   ],
   "source": [
    "fig,_ = plt.subplots(figsize=(8,6))\n",
    "x=jnp.arange(0,10,0.1)\n",
    "plt.plot(x,f(x), label=\"$f(x)$\")\n",
    "plt.plot(x,jfp(x), lw=3,label=\"$f^{\\ \\prime}(x)$\")\n",
    "plt.plot(x,fp(x),ls=\"--\",c='k', label=\"$f^{\\ \\prime}(x)$ (exact)\")\n",
    "plt.plot(x,jfpp(x), lw=3,label=\"$f^{\\ \\prime\\prime}(x)$\")\n",
    "plt.plot(x,fpp(x),ls=\"--\", c='purple',label=\"$f^{\\ \\prime\\prime}(x)$ (exact)\")\n",
    "plt.grid()\n",
    "plt.xlabel(\"$x$\")\n",
    "plt.legend();"
   ]
  },
  {
   "cell_type": "markdown",
   "id": "9ad64997",
   "metadata": {},
   "source": [
    "Figure 1 – Exemple de l’utilisation de la différentiation automatique pour calculer les\n",
    "dérivées successives d’une fonction de la variable x. On également présentés les graphes\n",
    "des fonctions dérivées dont les expressions analytiques sont connues."
   ]
  },
  {
   "cell_type": "markdown",
   "id": "a2752b74",
   "metadata": {},
   "source": [
    "Notez que j’utilise deux fonctions de la librairie JAX: la fonction grad qui calcule le gradient\n",
    "de la fonction par rapport à la variable x que l’on peut itérer pour obtenir les dérivées\n",
    "successives, et la fonction vmap qui permet d’appliquer la fonction sur des valeurs rangées\n",
    "dans un tableau (batching). Il y a une autre fonction similaire jax.numpy.vectorize qui\n",
    "a la même API que la version Numpy, mais elle est codée plutôt dans l’esprit de vmap. Les\n",
    "règles de vectorisation ne sont pas les mêmes et donc il faut déjà savoir ce que l’on veut\n",
    "faire en pratique. Il serait trop long d’établir un \"how-to\" ici 12, et donc je vous renvoie à\n",
    "la doc 13, et exemples de codes que l’on trouve sur le Web.\n",
    "A la différence d’une méthode de différences finies qui calcule une approximation\n",
    "des dérivées comme par exemple:"
   ]
  },
  {
   "cell_type": "markdown",
   "id": "eb582d2b",
   "metadata": {},
   "source": [
    "$$\n",
    "f^\\prime(x) \\simeq \\frac{f(x+h)-f(x)}{h}\n",
    "$$"
   ]
  },
  {
   "cell_type": "markdown",
   "id": "5ecbae85",
   "metadata": {},
   "source": [
    "avec $h$ suffisamment petit, JAX analyse le schéma de dépendance de $f$ vis-à-vis de $x$ directement\n",
    "à partir du code. On obtient alors une estimation aussi précise que le calcul\n",
    "analytique sans pour autant mener à bien le calcul. Bien entendu, on utilise la différentiation\n",
    "automatique dans des situations où le calcul ne peut pas être mené."
   ]
  },
  {
   "cell_type": "markdown",
   "id": "86244d93-f14c-4cdb-a370-ab4efb423667",
   "metadata": {},
   "source": [
    "## Fit simple par la méthde de descente de gradient"
   ]
  },
  {
   "cell_type": "markdown",
   "id": "040679a1",
   "metadata": {},
   "source": [
    "Imaginons à présent que l’on paramètrise la fonction f(x) selon\n",
    "$$\n",
    "f(p,x)=e^{-p_0x}\\sin(p_1x)\n",
    "$$"
   ]
  },
  {
   "cell_type": "markdown",
   "id": "4ee8026f",
   "metadata": {},
   "source": [
    "et que l’on cherche à trouver les valeurs de $p_0$ et $p_1$ en disposant de mesures bruitées\n",
    "${x_i, y_i}$ tel que ${i<N}$. En utilisant simplement pour le moment Numpy on peut générer les échantillons,\n",
    "en définissant $g(x) = f(ptrue, x)$ on a le code suivant:"
   ]
  },
  {
   "cell_type": "code",
   "execution_count": 14,
   "id": "4c4ad4c7-eff5-4d12-a4c7-092a563aeccb",
   "metadata": {},
   "outputs": [],
   "source": [
    "def f(p,x):\n",
    "    return jnp.exp(-x*p[0])*jnp.sin(x*p[1])"
   ]
  },
  {
   "cell_type": "code",
   "execution_count": 15,
   "id": "927493db",
   "metadata": {},
   "outputs": [
    {
     "data": {
      "text/plain": [
       "DeviceArray([ 0.        , -0.22222222,  0.44444445,  0.6666667 ,\n",
       "              0.8888889 ,  1.1111112 ,  1.3333334 ,  1.5555556 ,\n",
       "              1.7777778 ,  2.        ], dtype=float32)"
      ]
     },
     "execution_count": 15,
     "metadata": {},
     "output_type": "execute_result"
    }
   ],
   "source": [
    "xcont=np.linspace(0,1,100)\n",
    "y"
   ]
  },
  {
   "cell_type": "code",
   "execution_count": 16,
   "id": "d3d5d8ed-0853-467a-8c87-eb2cfdf4af1e",
   "metadata": {},
   "outputs": [],
   "source": [
    "ptrue = np.array([0.5,1])\n",
    "ftrue = lambda x: f(ptrue, x)"
   ]
  },
  {
   "cell_type": "code",
   "execution_count": 17,
   "id": "55e8cb2b-80b0-465e-b631-6382e9dc7025",
   "metadata": {},
   "outputs": [],
   "source": [
    "xin = np.arange(0,10,1.)\n",
    "yerr = 0.05\n",
    "yin = ftrue(xin)+np.random.normal(scale=yerr,size=xin.shape)"
   ]
  },
  {
   "cell_type": "code",
   "execution_count": 18,
   "id": "a01263c5",
   "metadata": {},
   "outputs": [],
   "source": [
    "xcont=np.linspace(0,10,100)\n",
    "ycont=ftrue(xcont)"
   ]
  },
  {
   "cell_type": "code",
   "execution_count": 19,
   "id": "b9e34d5b",
   "metadata": {},
   "outputs": [
    {
     "data": {
      "text/plain": [
       "Text(0, 0.5, 'y')"
      ]
     },
     "execution_count": 19,
     "metadata": {},
     "output_type": "execute_result"
    },
    {
     "data": {
      "image/png": "[encoded data removed]",
      "text/plain": [
       "<Figure size 432x288 with 1 Axes>"
      ]
     },
     "metadata": {
      "needs_background": "light"
     },
     "output_type": "display_data"
    }
   ],
   "source": [
    "plt.plot(xin,yin,'ko')\n",
    "plt.plot(xcont,ycont,'r-')\n",
    "plt.xlabel(\"x\")\n",
    "plt.ylabel(\"y\")"
   ]
  },
  {
   "cell_type": "markdown",
   "id": "67f61343",
   "metadata": {},
   "source": [
    "Afin d’obtenir l’estimation des paramètres pest, on se définit alors un modèle qui correspond\n",
    "à la définition de $f(p, x)$ et nous donne pour chaque couple de paramètres les\n",
    "valeurs des $y_i = f(p, x_i)$. Ensuite, il nous faut un fonction de coût (risque empirique, loss)\n",
    "à minimiser. Là encore pas de surprise, nous allons utiliser la MSE (mean square error,\n",
    "ou méthode des moindres carrés):"
   ]
  },
  {
   "cell_type": "code",
   "execution_count": 20,
   "id": "ac319236-2a1d-4a9a-a0d9-22839b183d0a",
   "metadata": {},
   "outputs": [],
   "source": [
    "def model(p, xi):\n",
    "    return f(p,xi)\n",
    "\n",
    "def mse(y_hat, y):\n",
    "    return jnp.power(y_hat - y, 2).mean()\n",
    "\n",
    "def loss_fun(p, xi, yi):\n",
    "    yhat = model(p, xi)\n",
    "    return mse(yhat, yi)"
   ]
  },
  {
   "cell_type": "markdown",
   "id": "ed12cee6",
   "metadata": {},
   "source": [
    "Il nous reste alors à procéder à l’estimation d’un pas de **descente de gradient** pour lequel\n",
    "on utilise la différentiation automatique:"
   ]
  },
  {
   "cell_type": "code",
   "execution_count": 21,
   "id": "65400f07-4bf8-4830-96c3-2ecc777fe2d8",
   "metadata": {},
   "outputs": [],
   "source": [
    "@jit\n",
    "def gradient_descent_step(p, xi, yi, lr=1e-1):\n",
    "    return p - lr * jax.grad(loss_fun)(p, xi, yi)"
   ]
  },
  {
   "cell_type": "markdown",
   "id": "294d277d",
   "metadata": {},
   "source": [
    "Notons que par défaut $jax.grad$ opère sur le premier argument de la fonction à différentier\n",
    "mais cela est bien entendu ajustable:"
   ]
  },
  {
   "cell_type": "markdown",
   "id": "6d755f28",
   "metadata": {},
   "source": [
    "### Function of 2 variables"
   ]
  },
  {
   "cell_type": "code",
   "execution_count": 22,
   "id": "29311585-5632-4540-94ad-17e9ab8b7843",
   "metadata": {},
   "outputs": [
    {
     "name": "stdout",
     "output_type": "stream",
     "text": [
      "8.0\n",
      "8.0\n",
      "6.0\n",
      "(DeviceArray(8., dtype=float32), DeviceArray(6., dtype=float32))\n"
     ]
    }
   ],
   "source": [
    "def func(x, y):\n",
    "    return 2 * x * y\n",
    "\n",
    "print(grad(func)(3., 4.))  # 8.\n",
    "print(grad(func, argnums=0)(3., 4.))  # 8.\n",
    "print(grad(func, argnums=1)(3., 4.))  # 6\n",
    "print(grad(func, argnums=(0, 1))(3., 4.))  # (8., 6.)"
   ]
  },
  {
   "cell_type": "code",
   "execution_count": 23,
   "id": "9064471a",
   "metadata": {},
   "outputs": [
    {
     "name": "stdout",
     "output_type": "stream",
     "text": [
      "(DeviceArray(8., dtype=float32), DeviceArray(6., dtype=float32))\n"
     ]
    }
   ],
   "source": [
    "print(grad(func, argnums=(0, 1))(3., 4.)) "
   ]
  },
  {
   "cell_type": "markdown",
   "id": "29f64089",
   "metadata": {},
   "source": [
    "qui plus est la fonction peut être complexe (ie. holomorphe). Bien, finalement le code qui\n",
    "permet d’obtenir une estimation des paramètres s’écrit comme suit:"
   ]
  },
  {
   "cell_type": "markdown",
   "id": "1b7ba62f",
   "metadata": {},
   "source": [
    "## Descente de gradient"
   ]
  },
  {
   "cell_type": "code",
   "execution_count": 24,
   "id": "f65cdbe4-8cd2-43aa-b32b-490ef2033f73",
   "metadata": {},
   "outputs": [
    {
     "name": "stdout",
     "output_type": "stream",
     "text": [
      "0 [0.  0.5] nan\n",
      "100 [0.4512081  0.88514286] 0.0017672799\n",
      "200 [0.4154175 0.9745982] 0.00014208998\n",
      "300 [0.41420448 0.9812115 ] 9.020804e-06\n",
      "400 [0.4141692 0.9816371] 5.915592e-07\n",
      "500 [0.4141679 0.9816641] 4.2146848e-08\n",
      "Converged after 515 epochs: p = [0.4141679 0.981665 ]\n"
     ]
    }
   ],
   "source": [
    "p_cur = jnp.array([0., 0.5])\n",
    "rel_err=np.nan\n",
    "for t in range(1000):\n",
    "\n",
    "    if (t % 100) == 0:\n",
    "        print(t, p_cur,rel_err)\n",
    "\n",
    "    new_p = gradient_descent_step(p_cur, xin,yin)\n",
    "\n",
    "    rel_err = jnp.sqrt(jnp.mean((p_cur - new_p)**2))\n",
    "    if rel_err < 1e-9:\n",
    "        print(f\"Converged after {t} epochs: p = {new_p}\")\n",
    "        break\n",
    "\n",
    "    p_cur = new_p"
   ]
  },
  {
   "cell_type": "markdown",
   "id": "11da4736-63df-488a-8230-a8c438d564d5",
   "metadata": {},
   "source": [
    "## Méthode de Newton: le Hessien"
   ]
  },
  {
   "cell_type": "markdown",
   "id": "2cade015",
   "metadata": {},
   "source": [
    "On peut utiliser la méthode de Newton\n",
    "qui fait appel au hessien de la fonction de coût (ie. matrice des dérivées secondes) selon\n",
    "l’opération\n",
    "$$\n",
    "p_{n+1} = p_n  −  \\lambda(\\nabla_p^2 L(p_n))^{—1}\\nabla_p L(p_n)\n",
    "$$"
   ]
  },
  {
   "cell_type": "code",
   "execution_count": 25,
   "id": "d5c3f95c-f4b8-4794-a7b7-134978e6a003",
   "metadata": {},
   "outputs": [],
   "source": [
    "gLoss = lambda p,xi,yi: jacfwd(loss_fun)(p,xi,yi)\n",
    "hLoss = lambda p,xi,yi: jax.hessian(loss_fun)(p,xi,yi)"
   ]
  },
  {
   "cell_type": "code",
   "execution_count": 26,
   "id": "8f30f766",
   "metadata": {},
   "outputs": [],
   "source": [
    "@jit\n",
    "def oneStepNewton(p,xi,yi,lr=0.1):\n",
    "    return p - lr*jnp.linalg.inv(hLoss(p,xi,yi)) @ gLoss(p,xi,yi)"
   ]
  },
  {
   "cell_type": "markdown",
   "id": "6557b8b3",
   "metadata": {},
   "source": [
    "Notons l’usage de la fonction $jacfwd$, elle calcule le jacobien de la fonction entre \"()\"\n",
    "par rapport au premier argument, mais ce dernier peut-être un vecteur tandis que grad\n",
    "devrait être vectorisée pour cela. A coté de $jacfwd$ (forward), il y a la fonction $jacrev$\n",
    "(backward) et toutes les deux calculent le jacobien, mais la première est plutôt dédiée\n",
    "pour matrice à grand nombre de lignes tandis que la seconde est taillée pour les matrices\n",
    "à grande nombre de colonnes. Ainsi, pour plus d’efficacité c’est pour cette raison que la\n",
    "fonction $jax.hessian(f)$ est codée selon $jacfwd(jacrev(f))$, ce qui serait une autre\n",
    "façon de coder $hLoss$."
   ]
  },
  {
   "cell_type": "markdown",
   "id": "99100308",
   "metadata": {},
   "source": [
    "Maintenant, en utilisant $oneStepNewton$ en lieu et place de gradient_descent_step,\n",
    "alors on obtient une convergence plus rapide:"
   ]
  },
  {
   "cell_type": "code",
   "execution_count": 27,
   "id": "72e823db-c83e-4d87-b5b3-a791f37e5065",
   "metadata": {},
   "outputs": [
    {
     "name": "stdout",
     "output_type": "stream",
     "text": [
      "0 [0.  0.5] nan\n",
      "100 [0.04078362 3.14156   ] 0.0008627418\n",
      "200 [0.02897805 3.1415915 ] 1.0536712e-08\n",
      "Converged after 207 epochs: p = [0.028978  3.1415915]\n"
     ]
    }
   ],
   "source": [
    "p_cur = jnp.array([0., 0.5])\n",
    "rel_err=np.nan\n",
    "for t in range(5000):\n",
    "\n",
    "    if (t % 100) == 0:\n",
    "        print(t, p_cur,rel_err)\n",
    "\n",
    "    new_p = oneStepNewton(p_cur, xin,yin)\n",
    "\n",
    "    rel_err = jnp.sqrt(jnp.mean((p_cur - new_p)**2))\n",
    "    if rel_err < 1e-9:\n",
    "        print(f\"Converged after {t} epochs: p = {new_p}\")\n",
    "        break\n",
    "\n",
    "    p_cur = new_p"
   ]
  },
  {
   "cell_type": "markdown",
   "id": "6bee654e",
   "metadata": {},
   "source": [
    "Notez au passage l’usage de la librairie d’algèbre linéaire de JAX et l’usage de l’opérateur\n",
    "Python \"@\" pour la multiplication matricielle."
   ]
  },
  {
   "cell_type": "markdown",
   "id": "b914abd1-5ab6-4ea8-a105-4ae3696f847b",
   "metadata": {},
   "source": [
    "# Un autre type d'optimisation"
   ]
  },
  {
   "cell_type": "markdown",
   "id": "8d76b205",
   "metadata": {},
   "source": [
    "Le type de problème d’optimisation de la section précédente se présente dans beaucoup\n",
    "de domaines via les méthodes lagrangiennes. Par exemple, trouver les dimensions\n",
    "d’un pavé 3D dont la surface totale des cotés vaut par exemple 24, et pour lequel on veut\n",
    "maximiser le volume. Cela se résout en remplaçant la fonction de coût par le lagrangien\n",
    "suivant"
   ]
  },
  {
   "cell_type": "markdown",
   "id": "e288236e",
   "metadata": {},
   "source": [
    "$$\n",
    "{\\cal L}(x,y,z,\\alpha)= V(x,y,z) - \\alpha(S(x,y,z) - 24)\n",
    "$$"
   ]
  },
  {
   "cell_type": "markdown",
   "id": "f1271ceb",
   "metadata": {},
   "source": [
    "$$\n",
    "V(x,y,z)=xyz \\\\\n",
    "S(x,y,z)=2(xy+xy+yz)\n",
    "$$"
   ]
  },
  {
   "cell_type": "code",
   "execution_count": 28,
   "id": "ec573993-5789-4b69-acc2-10289f9f55fd",
   "metadata": {},
   "outputs": [],
   "source": [
    "# Volume de la boite \n",
    "def vol(x): \n",
    "    return x[0]*x[1]*x[2]\n",
    "# Surface de la boite\n",
    "def surf(x):\n",
    "    return 2.*(x[0]*x[1]+x[0]*x[2]+x[1]*x[2])\n",
    "# Constrainte sur la surface\n",
    "def g(x): return surf(x) - 24\n",
    "\n",
    "#Lagrangien : p[0:3] = (x1,x2,x3), p[3] = multiplicateur de lagrange\n",
    "def Lag(p): \n",
    "    return vol(p[0:3]) - p[3]*g(p[0:3])"
   ]
  },
  {
   "cell_type": "code",
   "execution_count": 29,
   "id": "53dda94a-4af0-4ec1-918e-0bca8b12d996",
   "metadata": {},
   "outputs": [],
   "source": [
    "#Gradient Lagrangien\n",
    "gLag = jacfwd(Lag)\n",
    "hLag = hessian(Lag)"
   ]
  },
  {
   "cell_type": "code",
   "execution_count": 30,
   "id": "f4ca3315",
   "metadata": {},
   "outputs": [],
   "source": [
    "@jit\n",
    "def solveLagrangian(p,lr=0.1): \n",
    "    return p - lr*jnp.linalg.inv(hLag(p)) @ gLag(p)"
   ]
  },
  {
   "cell_type": "markdown",
   "id": "afc27c46",
   "metadata": {},
   "source": [
    "Enfin, résoudre l’équation $ \\nabla {\\cal L} = 0 $ à la recherche du point critique se fait via"
   ]
  },
  {
   "cell_type": "code",
   "execution_count": 31,
   "id": "7bd6fdbd-50c9-499b-895b-28c4bd82a68f",
   "metadata": {},
   "outputs": [
    {
     "name": "stdout",
     "output_type": "stream",
     "text": [
      "0 [1.5 0.5 1.  0.1]\n",
      "10 [1.8335831  1.5516778  1.7771688  0.40679324]\n",
      "20 [1.9443338 1.8488717 1.9288241 0.4698166]\n",
      "30 [1.9808732  1.9478556  1.9758339  0.48971188]\n",
      "40 [1.9933648  1.9818826  1.9916483  0.49643993]\n",
      "50 [1.9976907  1.9936905  1.9970968  0.49876192]\n",
      "60 [1.9991952  1.997801   1.9989886  0.49956873]\n",
      "70 [1.9997195  1.9992332  1.9996475  0.49984968]\n",
      "80 [1.9999021  1.9997327  1.9998771  0.49994758]\n",
      "90 [1.9999659  1.9999067  1.9999571  0.49998173]\n",
      "100 [1.9999882  1.9999673  1.999985   0.49999362]\n",
      "110 [1.999996   1.9999887  1.9999948  0.49999774]\n",
      "Converged after 112 epochs\n",
      "p_fin:  [1.9999967  1.9999908  1.9999957  0.49999818] : True x=y=z=2, lambda=0.5\n",
      "v_fin:  7.999933 : True vol  = 2^3\n",
      "s_fin:  23.999866 : True surf = 24\n"
     ]
    }
   ],
   "source": [
    "p_cur = jnp.array([1.5,0.5,1.0,0.1])\n",
    "\n",
    "for t in range(200):\n",
    "\n",
    "    if (t % 10) == 0:\n",
    "        print(t, p_cur)\n",
    "\n",
    "    new_p = solveLagrangian(p_cur)\n",
    "    \n",
    "    rel_err = jnp.max(jnp.abs(p_cur - new_p))\n",
    "    if rel_err < 1e-6:\n",
    "        print(f\"Converged after {t} epochs\")\n",
    "        break\n",
    "    \n",
    "    p_cur = new_p\n",
    "\n",
    "p_fin=p_cur\n",
    "v_fin = vol(p_fin[0:3])\n",
    "s_fin = surf(p_fin[0:3])\n",
    "\n",
    "print(\"p_fin: \",p_fin,\": True x=y=z=2, lambda=0.5\" )\n",
    "print(\"v_fin: \",v_fin,\": True vol  = 2^3\")\n",
    "print(\"s_fin: \",s_fin,\": True surf = 24\")"
   ]
  },
  {
   "cell_type": "markdown",
   "id": "dc948f5b",
   "metadata": {},
   "source": [
    "Même si on peut se rendre compte que l’environnement du point scelle solution n’est pas\n",
    "très bien \"marqué\", on peut tuner le learning rate pour mener à bien la minimisation, si ce\n",
    "n’est pas le cas il faut un peut tâtonner. Cependant, même dans cet exercice où l’optimisation\n",
    "est simple, on peut se demander s’il n’y a pas une sensibilité de la solution trouvée\n",
    "par rapport aux valeurs initiales que l’on donne (ie. la première valeur des paramètres\n",
    "p_cur). Bien entendu, on peut le faire à la main via une fonction qui prend en argument\n",
    "les valeurs initiales des paramètres que l’on tire au hasard. Mais, on peut le faire faire\n",
    "(plus efficacement 14) par JAX aussi!"
   ]
  },
  {
   "cell_type": "markdown",
   "id": "f66a6c30",
   "metadata": {},
   "source": [
    "La première chose à faire est de vectoriser la fonction $solveLagrangian$ pour quelle\n",
    "accepte plusieurs vecteurs p_cur à l’initialisation, et quelle puisse les mettre à jour en\n",
    "même temps:\n",
    "\n",
    "              vfuncsLAG = vmap( solveLagrangian )\n",
    "              \n"
   ]
  },
  {
   "cell_type": "code",
   "execution_count": 32,
   "id": "8eb64352-500e-4b8f-b533-de80245a9884",
   "metadata": {},
   "outputs": [],
   "source": [
    "@jit\n",
    "def solveLagrangian(p,lr=0.1): \n",
    "    return p - lr*jnp.linalg.inv(hLag(p)) @ gLag(p)"
   ]
  },
  {
   "cell_type": "code",
   "execution_count": 33,
   "id": "2e24bf02",
   "metadata": {},
   "outputs": [],
   "source": [
    "vfuncsLAG = vmap(solveLagrangian)"
   ]
  },
  {
   "cell_type": "markdown",
   "id": "5cea76b8",
   "metadata": {},
   "source": [
    "Ensuite, il faut pouvoir tirer aléatoirement les dites valeurs initiales. Pour se faire JAX a\n",
    "une routine ad hoc $jax.random.PRNGKey(seed)$ pour garantir la génération de nombres\n",
    "aléatoires reproductible, vectorisable et parallélisable. Ainsi, on utilise le code suivant pour\n",
    "générer 100 vecteurs $p_{cur}$ (de dimension 4), qui je pense est assez clair:\n",
    "\n",
    "\n",
    "              key = jax.random.PRNGKey(0)\n",
    "              p_cur = jax.random.uniform(key ,shape=(100 ,4),dtype='float32',minval=0.,maxval=1.0)"
   ]
  },
  {
   "cell_type": "code",
   "execution_count": 34,
   "id": "0338aa6a",
   "metadata": {},
   "outputs": [],
   "source": [
    "key = jax.random.PRNGKey(0)\n",
    "p_cur = jax.random.uniform(key, shape=(100,4), dtype='float32', minval=0., maxval=1.0)"
   ]
  },
  {
   "cell_type": "code",
   "execution_count": 35,
   "id": "c911adcb",
   "metadata": {},
   "outputs": [
    {
     "data": {
      "text/plain": [
       "DeviceArray([[0.7455205 , 0.5724256 , 0.5989009 , 0.40756226],\n",
       "             [0.7306458 , 0.9552475 , 0.4196427 , 0.52214766],\n",
       "             [0.02199447, 0.1088649 , 0.2846495 , 0.74595153],\n",
       "             [0.4045459 , 0.42050242, 0.5038254 , 0.7700802 ],\n",
       "             [0.16906488, 0.59770143, 0.44737732, 0.83202744],\n",
       "             [0.5080929 , 0.5435822 , 0.5909877 , 0.2801602 ],\n",
       "             [0.7243432 , 0.32554698, 0.68651915, 0.7910842 ],\n",
       "             [0.14363754, 0.4956231 , 0.9737681 , 0.4505446 ],\n",
       "             [0.28138304, 0.6602762 , 0.8740549 , 0.41414762],\n",
       "             [0.9935266 , 0.76060784, 0.11353779, 0.0050137 ]],            dtype=float32)"
      ]
     },
     "execution_count": 35,
     "metadata": {},
     "output_type": "execute_result"
    }
   ],
   "source": [
    "p_cur[:10]"
   ]
  },
  {
   "cell_type": "code",
   "execution_count": 36,
   "id": "35a0e45e-b71d-492f-beca-24979d19da8a",
   "metadata": {},
   "outputs": [],
   "source": [
    "for t in range(3000):\n",
    "    p_cur = vfuncsLAG(p_cur)"
   ]
  },
  {
   "cell_type": "markdown",
   "id": "ad93af38",
   "metadata": {},
   "source": [
    "pour obtenir à l’étape finale 100 jeux de paramètres. Pour déterminer le meilleur, on utilise\n",
    "la fonction vol pour déterminer le jeu qui réalise le volume maximal. Pour se faire on\n",
    "utilise la fonction $nanargmax$ de $jax.numpy$ qui fonctionne comme son pendant de Numpy:"
   ]
  },
  {
   "cell_type": "code",
   "execution_count": 37,
   "id": "7196c184-f6ab-4d0b-bdf0-289ff4633422",
   "metadata": {},
   "outputs": [],
   "source": [
    "maxfunc  = jax.vmap(vol)\n",
    "maximums = maxfunc(p_cur)"
   ]
  },
  {
   "cell_type": "code",
   "execution_count": 38,
   "id": "fc7b5bb5-9ef6-4ee0-b953-aa3dfd468f8f",
   "metadata": {},
   "outputs": [
    {
     "name": "stdout",
     "output_type": "stream",
     "text": [
      "The max. volume is 8.000007, the lengthes are (2.000001,2.000001,2.000000)\n"
     ]
    }
   ],
   "source": [
    "arglist = jnp.nanargmax(maximums)\n",
    "argmax = p_cur[arglist]\n",
    "maxvol = maximums[arglist]\n",
    "print(f\"The max. volume is {maxvol:.6f}, the lengthes are ({argmax[0]:.6f},{argmax[1]:.6f},{argmax[2]:.6f})\")"
   ]
  },
  {
   "cell_type": "markdown",
   "id": "f5301161",
   "metadata": {},
   "source": [
    "On obtient alors si on a ’bien’ choisi le learning rate et suffisamment d’itérations\n",
    "\n",
    "    The max . volume i s 8.000013 , the l eng the s are ( 2 . 0 0 0 0 0 1 , 2 . 0 0 0 0 0 1 , 2 . 0 0 0 0 0 1 )\n",
    "\n",
    "\n",
    "Encore une fois si le problème est mal conditionné, ce n’est pas JIT qui sauvera sa résolution.\n",
    "Bien entendu des choses plus complexes sont possibles, en particulier le sampling\n",
    "de densités de probabilités par méthodes Monte Carlo de type MCMC Hamiltonien que\n",
    "j’aborderai dans une autre note à venir."
   ]
  },
  {
   "cell_type": "markdown",
   "id": "d6458883-fff0-4514-8d43-2590552b3f74",
   "metadata": {},
   "source": [
    "# JIT: quelques exemples\n",
    "Une chose qu'il est possible de faire pour se rendre compte de l'effet de JIT c'est de commenter dans les cellules précédentes les lignes \"@jit\" (décorateur Python) et de réexecuter le notebook."
   ]
  },
  {
   "cell_type": "markdown",
   "id": "6472b5be",
   "metadata": {},
   "source": [
    "Tout au long des exemples précédents, il y avait des lignes \"@jit\", il s’agit d’un\n",
    "décorateur Python qui appelle l’optimisation du code par son traitement par XLA. JIT\n",
    "permet de produire un code \"optimisé\" pour le hardware utilisé, essentiellement CPU et\n",
    "GPU/Nvidia (ie. le TPU est très spécifique). Une première idée de ce que peut apporter la\n",
    "compilation peut être touché du doigt en commentant les lignes \"@jit\" dans le notebook et\n",
    "en le ré-exécutant. Le gain de l’usage de la compilation est suffisamment significatif pour\n",
    "qu’il soit \"visible\" même sur un CPU. Ce n’est pas toujours le cas. Voyons par exemple\n",
    "un code purement en Numpy qui calcule par approximation de Simpson des intégrales d’un\n",
    "lot de 200 fonctions de type"
   ]
  },
  {
   "cell_type": "markdown",
   "id": "dcea0431",
   "metadata": {},
   "source": [
    "$$\n",
    "fn(x) = x^{n/10}e^{−x}\n",
    "$$"
   ]
  },
  {
   "cell_type": "markdown",
   "id": "a1b4f62f",
   "metadata": {},
   "source": [
    "sur 100 intervalles:"
   ]
  },
  {
   "cell_type": "code",
   "execution_count": 39,
   "id": "619846ca-76ec-4cea-a396-99b027c1d314",
   "metadata": {},
   "outputs": [],
   "source": [
    "def simps(f, a, b, N):\n",
    "    #N doit etre paire\n",
    "    dx = (b - a) / N\n",
    "    x = np.linspace(a, b, N + 1)\n",
    "    y = f(x)\n",
    "    w = np.ones_like(y)\n",
    "    w[2:-1:2] = 2.\n",
    "    w[1::2]   = 4.\n",
    "    S = dx / 3 * np.einsum(\"i...,i...\",w,y)\n",
    "    return S"
   ]
  },
  {
   "cell_type": "code",
   "execution_count": 40,
   "id": "5fbe232c-587d-4d98-ab51-379c3b4a8252",
   "metadata": {},
   "outputs": [],
   "source": [
    "def funcN(x):\n",
    "    return np.stack([x**(i/10) * np.exp(-x) for i in range(200)],axis=1)"
   ]
  },
  {
   "cell_type": "code",
   "execution_count": 41,
   "id": "86658a3c-59b6-4c16-b7fd-79cedb524776",
   "metadata": {},
   "outputs": [],
   "source": [
    "a = np.arange(0,10,0.1)"
   ]
  },
  {
   "cell_type": "code",
   "execution_count": 42,
   "id": "2cff4cf2-28ae-45aa-9756-638d589f5fee",
   "metadata": {},
   "outputs": [],
   "source": [
    "b=a+0.05"
   ]
  },
  {
   "cell_type": "code",
   "execution_count": 43,
   "id": "fa0a5180-8938-40fe-8819-4541fc5b8347",
   "metadata": {},
   "outputs": [
    {
     "name": "stdout",
     "output_type": "stream",
     "text": [
      "585 ms ± 69 ms per loop (mean ± std. dev. of 7 runs, 1 loop each)\n"
     ]
    }
   ],
   "source": [
    "%timeit simps(funcN,a,b, 512)"
   ]
  },
  {
   "cell_type": "code",
   "execution_count": 44,
   "id": "d571bbdc-5a18-4838-8f1f-36d2636bdd59",
   "metadata": {},
   "outputs": [],
   "source": [
    "x_test = np.random.normal(loc=10,size=(3,100))"
   ]
  },
  {
   "cell_type": "code",
   "execution_count": 45,
   "id": "e05fb781-22ec-4464-a6a7-d410ae38865b",
   "metadata": {},
   "outputs": [
    {
     "name": "stdout",
     "output_type": "stream",
     "text": [
      "4.71 ms ± 806 µs per loop (mean ± std. dev. of 7 runs, 100 loops each)\n"
     ]
    }
   ],
   "source": [
    "%timeit funcN(x_test)"
   ]
  },
  {
   "cell_type": "code",
   "execution_count": 46,
   "id": "4a7d8b78-5447-45bb-a170-35b8560dfefb",
   "metadata": {},
   "outputs": [],
   "source": [
    "def test_funcN(x):\n",
    "    x = x[:, None, :]\n",
    "    i = np.arange(200)[:, None]\n",
    "    return x**(i/10) * np.exp(-x)"
   ]
  },
  {
   "cell_type": "code",
   "execution_count": 47,
   "id": "afe2fcc9-adfe-48e1-aa1a-3389d58de8cf",
   "metadata": {},
   "outputs": [
    {
     "name": "stdout",
     "output_type": "stream",
     "text": [
      "3.01 ms ± 1.05 ms per loop (mean ± std. dev. of 7 runs, 100 loops each)\n"
     ]
    }
   ],
   "source": [
    "%timeit test_funcN(x_test)"
   ]
  },
  {
   "cell_type": "code",
   "execution_count": 48,
   "id": "d45e7ee5-8e50-419d-8a7d-a3f701547f3d",
   "metadata": {},
   "outputs": [],
   "source": [
    "from functools import partial\n",
    "from jax.config import config\n",
    "config.update(\"jax_enable_x64\", True)"
   ]
  },
  {
   "cell_type": "code",
   "execution_count": 49,
   "id": "6b15a94b-d63b-4a89-8adf-429a7f35ffdd",
   "metadata": {},
   "outputs": [],
   "source": [
    "@partial(jit, static_argnums=(0,3))\n",
    "def jax_simps(f, a,b, N):\n",
    "    dx = (b - a) / N\n",
    "    x = jnp.linspace(a, b, N + 1)\n",
    "    y = f(x)\n",
    "    w = jnp.ones_like(y)\n",
    "    w = w.at[2:-1:2].set(2.)\n",
    "    w = w.at[1::2].set(4.)\n",
    "    S = dx / 3. * jnp.einsum('i...,i...',w,y)\n",
    "    return S"
   ]
  },
  {
   "cell_type": "code",
   "execution_count": 50,
   "id": "3dfb75fe-2de4-4133-a4de-4f4ab6c62200",
   "metadata": {},
   "outputs": [],
   "source": [
    "@jit\n",
    "def jax_funcN(x):\n",
    "    return jnp.stack([x**(i/10) * jnp.exp(-x) for i in range(200)],axis=1)"
   ]
  },
  {
   "cell_type": "code",
   "execution_count": 51,
   "id": "b3ddbd4f-b39e-4514-a7ea-43b8f6596d6b",
   "metadata": {},
   "outputs": [],
   "source": [
    "ja = jnp.arange(0,10,0.1)\n",
    "jb = ja+0.05"
   ]
  },
  {
   "cell_type": "markdown",
   "id": "0aaf645b",
   "metadata": {},
   "source": [
    "La première chose spécifique à la comparaison ici entre Numpy et JAX est le fait que l’on\n",
    "exige de travailler en double précision qui est le fonctionnement par défaut de Numpy.\n",
    "Ensuite, on remarque les décorateurs Python \"@partial\" et \"@jit\": ce sont juste des\n",
    "raccourcis. En effet, je pouvais très bien écrire"
   ]
  },
  {
   "cell_type": "code",
   "execution_count": 52,
   "id": "eb079354-2e5a-449e-a432-ce8a863b7499",
   "metadata": {},
   "outputs": [
    {
     "name": "stdout",
     "output_type": "stream",
     "text": [
      "573 ms ± 60.2 ms per loop (mean ± std. dev. of 7 runs, 1 loop each)\n"
     ]
    }
   ],
   "source": [
    "tmp1 = jax_simps(jax_funcN,ja,jb, 512).block_until_ready() \n",
    "%timeit jax_simps(jax_funcN,ja,jb, 512).block_until_ready() "
   ]
  },
  {
   "cell_type": "markdown",
   "id": "28f502b3",
   "metadata": {},
   "source": [
    "       jit_funcN = jax.jit(jax_funcN)\n",
    "\n",
    "qui permet d’utiliser la fonction compilée $jit\\_funcN(x)$, mais le décorateur permet d’utiliser\n",
    "directement $jax\\_funcN$ compilée sans faire appel à une autre définition. Pour ce qui\n",
    "concerne le code utilisant \"@partial\", il se déploie comme cela\n",
    "\n",
    "\n",
    "       jit_simps = partial(jax.jit(jax_simps(f,a,b,N),static_argnums = (0 ,3) )\n",
    "       \n",
    "       \n",
    "En fait, partial permet de définir de nouvelles fonctions, à partir d’une fonction à plusieurs\n",
    "arguments dont certains sont fixés au moment de l’exécution du partial: ici la\n",
    "fonction c’est jax.jit et l’argument fixé est \n",
    "\n",
    "       static_argnums=(0,3). \n",
    "\n",
    "\n",
    "Maintenant, que\n",
    "fait cet argument (ie. static_argnums) de $jax.jit$. Il fige comme le terme \"static\" l’indique\n",
    "les arguments en position 0 et 3, à savoir les paramètres \"f\" et \"N\". En gros, le compilateur\n",
    "doit connaître un certain nombre de caractéristiques sur les arguments: concernant\n",
    "le paramètre \"f\" ce n’est pas un tableau standard puisque qu’il contiendra par la suite des\n",
    "fonctions \"callable\" ce que ne peut anticiper le compilateur, donc il faut le rendre statique.\n",
    "On aurait généré le même problème avec une fonction triviale qui a deux arguments \"(f,x)\"\n",
    "et retourne \"$f(x)$\". Concernant \"$N$\", c’est le $jnp.linspace(a,b,N+1)$ qui pose problème\n",
    "et l’erreur aurait été la même que si on essaye d’opérer un jit sur une fonction de \"$N$\"\n",
    "qui renvoit $jnp.linspace(0,1,N+1)$, XLA doit pouvoir inférer la taille de tableau généré.\n",
    "Passant au benchmarking,"
   ]
  },
  {
   "cell_type": "markdown",
   "id": "3cc376c4-a12c-4d66-8829-736113fb65f2",
   "metadata": {},
   "source": [
    "# JIT recompilation"
   ]
  },
  {
   "cell_type": "code",
   "execution_count": 61,
   "id": "18e96582-7ca4-47de-9038-8ddeaa2c7661",
   "metadata": {},
   "outputs": [],
   "source": [
    "def toto(x):\n",
    "    print(\"toto recompile\") # effet de bord\n",
    "    return 2*x\n",
    "@jit\n",
    "def titi(x):\n",
    "    print(\"titi recompile\") # effet de bord\n",
    "    return toto(x)"
   ]
  },
  {
   "cell_type": "code",
   "execution_count": 62,
   "id": "a0473df2-be67-4f83-92e0-3ebb09b4bbcc",
   "metadata": {},
   "outputs": [
    {
     "name": "stdout",
     "output_type": "stream",
     "text": [
      "titi recompile\n",
      "toto recompile\n"
     ]
    },
    {
     "data": {
      "text/plain": [
       "DeviceArray(0., dtype=float64, weak_type=True)"
      ]
     },
     "execution_count": 62,
     "metadata": {},
     "output_type": "execute_result"
    }
   ],
   "source": [
    "titi(0.)"
   ]
  },
  {
   "cell_type": "code",
   "execution_count": 55,
   "id": "32cf09d2-609f-4543-8a14-88f8f111c291",
   "metadata": {},
   "outputs": [
    {
     "data": {
      "text/plain": [
       "DeviceArray(2., dtype=float64, weak_type=True)"
      ]
     },
     "execution_count": 55,
     "metadata": {},
     "output_type": "execute_result"
    }
   ],
   "source": [
    "titi(1.)"
   ]
  },
  {
   "cell_type": "code",
   "execution_count": 56,
   "id": "091a774c-7439-478d-ba2a-bafe3636390c",
   "metadata": {},
   "outputs": [
    {
     "name": "stdout",
     "output_type": "stream",
     "text": [
      "titi recompile\n",
      "toto recompile\n"
     ]
    },
    {
     "data": {
      "text/plain": [
       "DeviceArray(2, dtype=int64, weak_type=True)"
      ]
     },
     "execution_count": 56,
     "metadata": {},
     "output_type": "execute_result"
    }
   ],
   "source": [
    "titi(1)"
   ]
  },
  {
   "cell_type": "code",
   "execution_count": 57,
   "id": "24fb41c7-74c6-4f1d-80d1-d5de00cf24a4",
   "metadata": {},
   "outputs": [
    {
     "data": {
      "text/plain": [
       "DeviceArray(4, dtype=int64, weak_type=True)"
      ]
     },
     "execution_count": 57,
     "metadata": {},
     "output_type": "execute_result"
    }
   ],
   "source": [
    "titi(2)"
   ]
  },
  {
   "cell_type": "code",
   "execution_count": 58,
   "id": "7bd22d7b-da60-4e27-8320-94e15ed47bf5",
   "metadata": {},
   "outputs": [
    {
     "data": {
      "text/plain": [
       "DeviceArray(10., dtype=float64, weak_type=True)"
      ]
     },
     "execution_count": 58,
     "metadata": {},
     "output_type": "execute_result"
    }
   ],
   "source": [
    "titi(5.)"
   ]
  },
  {
   "cell_type": "markdown",
   "id": "b4bab584-fdb6-4fb8-b709-42a5224dd7a8",
   "metadata": {},
   "source": [
    "## JIT et le contrôle \"if-else\""
   ]
  },
  {
   "cell_type": "code",
   "execution_count": 59,
   "id": "fb6b6b47-4624-440a-b456-0d2e4fdb1098",
   "metadata": {},
   "outputs": [],
   "source": [
    "@jit\n",
    "def f(x,alpha=1.67, lambda_=1.05):\n",
    "    if x>0:\n",
    "        return lambda_*x\n",
    "    else:\n",
    "        return lambda_*alpha*(jnp.exp(x) -1)\n"
   ]
  },
  {
   "cell_type": "code",
   "execution_count": 60,
   "id": "6bedcce5-8179-4582-bdef-3c4859dc6581",
   "metadata": {},
   "outputs": [
    {
     "ename": "ConcretizationTypeError",
     "evalue": "Abstract tracer value encountered where concrete value is expected: Traced<ShapedArray(bool[], weak_type=True)>with<DynamicJaxprTrace(level=0/1)>\nThe problem arose with the `bool` function. \nWhile tracing the function f at <ipython-input-59-bfde68cdf548>:1 for jit, this concrete value was not available in Python because it depends on the value of the argument 'x'.\n\nSee https://jax.readthedocs.io/en/latest/errors.html#jax.errors.ConcretizationTypeError",
     "output_type": "error",
     "traceback": [
      "\u001b[0;31m---------------------------------------------------------------------------\u001b[0m",
      "\u001b[0;31mConcretizationTypeError\u001b[0m                   Traceback (most recent call last)",
      "\u001b[0;32m<ipython-input-60-61f3fa8da428>\u001b[0m in \u001b[0;36m<module>\u001b[0;34m\u001b[0m\n\u001b[0;32m----> 1\u001b[0;31m \u001b[0mf\u001b[0m\u001b[0;34m(\u001b[0m\u001b[0;36m1.\u001b[0m\u001b[0;34m)\u001b[0m\u001b[0;34m\u001b[0m\u001b[0;34m\u001b[0m\u001b[0m\n\u001b[0m",
      "    \u001b[0;31m[... skipping hidden 13 frame]\u001b[0m\n",
      "\u001b[0;32m<ipython-input-59-bfde68cdf548>\u001b[0m in \u001b[0;36mf\u001b[0;34m(x, alpha, lambda_)\u001b[0m\n\u001b[1;32m      1\u001b[0m \u001b[0;34m@\u001b[0m\u001b[0mjit\u001b[0m\u001b[0;34m\u001b[0m\u001b[0;34m\u001b[0m\u001b[0m\n\u001b[1;32m      2\u001b[0m \u001b[0;32mdef\u001b[0m \u001b[0mf\u001b[0m\u001b[0;34m(\u001b[0m\u001b[0mx\u001b[0m\u001b[0;34m,\u001b[0m\u001b[0malpha\u001b[0m\u001b[0;34m=\u001b[0m\u001b[0;36m1.67\u001b[0m\u001b[0;34m,\u001b[0m \u001b[0mlambda_\u001b[0m\u001b[0;34m=\u001b[0m\u001b[0;36m1.05\u001b[0m\u001b[0;34m)\u001b[0m\u001b[0;34m:\u001b[0m\u001b[0;34m\u001b[0m\u001b[0;34m\u001b[0m\u001b[0m\n\u001b[0;32m----> 3\u001b[0;31m     \u001b[0;32mif\u001b[0m \u001b[0mx\u001b[0m\u001b[0;34m>\u001b[0m\u001b[0;36m0\u001b[0m\u001b[0;34m:\u001b[0m\u001b[0;34m\u001b[0m\u001b[0;34m\u001b[0m\u001b[0m\n\u001b[0m\u001b[1;32m      4\u001b[0m         \u001b[0;32mreturn\u001b[0m \u001b[0mlambda_\u001b[0m\u001b[0;34m*\u001b[0m\u001b[0mx\u001b[0m\u001b[0;34m\u001b[0m\u001b[0;34m\u001b[0m\u001b[0m\n\u001b[1;32m      5\u001b[0m     \u001b[0;32melse\u001b[0m\u001b[0;34m:\u001b[0m\u001b[0;34m\u001b[0m\u001b[0;34m\u001b[0m\u001b[0m\n",
      "    \u001b[0;31m[... skipping hidden 1 frame]\u001b[0m\n",
      "\u001b[0;32m~/anaconda3/lib/python3.8/site-packages/jax/core.py\u001b[0m in \u001b[0;36merror\u001b[0;34m(self, arg)\u001b[0m\n\u001b[1;32m    998\u001b[0m                       f\"or `jnp.array(x, {fun.__name__})` instead.\")\n\u001b[1;32m    999\u001b[0m   \u001b[0;32mdef\u001b[0m \u001b[0merror\u001b[0m\u001b[0;34m(\u001b[0m\u001b[0mself\u001b[0m\u001b[0;34m,\u001b[0m \u001b[0marg\u001b[0m\u001b[0;34m)\u001b[0m\u001b[0;34m:\u001b[0m\u001b[0;34m\u001b[0m\u001b[0;34m\u001b[0m\u001b[0m\n\u001b[0;32m-> 1000\u001b[0;31m     \u001b[0;32mraise\u001b[0m \u001b[0mConcretizationTypeError\u001b[0m\u001b[0;34m(\u001b[0m\u001b[0marg\u001b[0m\u001b[0;34m,\u001b[0m \u001b[0mfname_context\u001b[0m\u001b[0;34m)\u001b[0m\u001b[0;34m\u001b[0m\u001b[0;34m\u001b[0m\u001b[0m\n\u001b[0m\u001b[1;32m   1001\u001b[0m   \u001b[0;32mreturn\u001b[0m \u001b[0merror\u001b[0m\u001b[0;34m\u001b[0m\u001b[0;34m\u001b[0m\u001b[0m\n\u001b[1;32m   1002\u001b[0m \u001b[0;34m\u001b[0m\u001b[0m\n",
      "\u001b[0;31mConcretizationTypeError\u001b[0m: Abstract tracer value encountered where concrete value is expected: Traced<ShapedArray(bool[], weak_type=True)>with<DynamicJaxprTrace(level=0/1)>\nThe problem arose with the `bool` function. \nWhile tracing the function f at <ipython-input-59-bfde68cdf548>:1 for jit, this concrete value was not available in Python because it depends on the value of the argument 'x'.\n\nSee https://jax.readthedocs.io/en/latest/errors.html#jax.errors.ConcretizationTypeError"
     ]
    }
   ],
   "source": [
    "f(1.)"
   ]
  },
  {
   "cell_type": "code",
   "execution_count": null,
   "id": "70e9ba93-7dd6-481f-8d1a-eae9d35cbd5b",
   "metadata": {},
   "outputs": [],
   "source": [
    "@jit\n",
    "def fok(x,alpha=1.67, lambda_=1.05):\n",
    "        return lambda_*jnp.where(x>0,x,alpha*(jnp.exp(x) -1))"
   ]
  },
  {
   "cell_type": "code",
   "execution_count": null,
   "id": "f0e71fea-4c77-42ec-9a8f-da7cd346d50d",
   "metadata": {},
   "outputs": [],
   "source": [
    "x = jnp.arange(-1,1,0.01)\n",
    "plt.plot(x,vmap(fok)(x))\n",
    "plt.plot(x,vmap(grad(fok))(x)) # le gradient...\n",
    "plt.grid();"
   ]
  },
  {
   "cell_type": "code",
   "execution_count": null,
   "id": "52937b4a-8f92-43fd-a0ec-3c914212c831",
   "metadata": {},
   "outputs": [],
   "source": [
    "#version Numpy\n",
    "def npok(x,alpha=1.67, lambda_=1.05):\n",
    "        return lambda_*np.where(x>0,x,alpha*(np.exp(x) -1))"
   ]
  },
  {
   "cell_type": "code",
   "execution_count": null,
   "id": "1e8964ec-aba6-41a8-95a0-18108f797928",
   "metadata": {},
   "outputs": [],
   "source": [
    "x = np.arange(-1,1,0.1)\n",
    "plt.plot(x,np.vectorize(npok)(x))"
   ]
  },
  {
   "cell_type": "code",
   "execution_count": null,
   "id": "3bfb5d02-d0fb-4020-9aa3-9a599184a4f0",
   "metadata": {},
   "outputs": [],
   "source": [
    "@partial(jit, static_argnums=(0,))\n",
    "def f_bof(x,alpha=1.67, lambda_=1.05):\n",
    "    print(x)\n",
    "    if x>0:\n",
    "        return lambda_*x\n",
    "    else:\n",
    "        return lambda_*alpha*(jnp.exp(x) -1)\n"
   ]
  },
  {
   "cell_type": "code",
   "execution_count": null,
   "id": "c12fae2e-eec7-444a-880c-f046d33f2d5b",
   "metadata": {},
   "outputs": [],
   "source": [
    "f_bof(0.5)"
   ]
  },
  {
   "cell_type": "code",
   "execution_count": null,
   "id": "555a4f49-0980-4be0-adf1-970360ef19cf",
   "metadata": {},
   "outputs": [],
   "source": [
    "x = jnp.array([-0.5,0.,0.5])\n",
    "f_bof(x)"
   ]
  },
  {
   "cell_type": "code",
   "execution_count": null,
   "id": "9ca70818-3c52-484a-95ea-3521aa402336",
   "metadata": {},
   "outputs": [],
   "source": [
    "grad(f_bof)(0.5)"
   ]
  },
  {
   "cell_type": "markdown",
   "id": "90a4e30c-4046-46d6-8553-de14800a742d",
   "metadata": {},
   "source": [
    "# JIT est la boucle for-loop"
   ]
  },
  {
   "cell_type": "code",
   "execution_count": null,
   "id": "c440376a-139d-498b-b606-4ce98c44ca96",
   "metadata": {},
   "outputs": [],
   "source": [
    "@jit\n",
    "def root(x):\n",
    "    val = x\n",
    "    for i in range(0,10):\n",
    "        val = (val+x/val)/2.\n",
    "    return val\n",
    "\n",
    "@jit\n",
    "def jax_root(x):\n",
    "    def body(i,val):\n",
    "        return (val+x/val)/2.\n",
    "    return jax.lax.fori_loop(0,10,body,x)\n",
    "    "
   ]
  },
  {
   "cell_type": "code",
   "execution_count": null,
   "id": "f5a4099c-5e8e-4295-8f5f-626b843f9bda",
   "metadata": {},
   "outputs": [],
   "source": [
    "x = jnp.arange(0,5,0.01)\n",
    "plt.plot(x, root(x))\n",
    "plt.plot(x, vmap(grad(root))(x))\n",
    "plt.plot(x, jnp.sqrt(x), lw=3,ls='--')\n",
    "plt.plot(x, 1/(2*jnp.sqrt(x)), lw=3,ls='--')\n",
    "plt.grid();"
   ]
  },
  {
   "cell_type": "code",
   "execution_count": null,
   "id": "10fe9e9b-6c83-43c1-88d5-cd793303a57d",
   "metadata": {},
   "outputs": [],
   "source": [
    "%timeit root(x)"
   ]
  },
  {
   "cell_type": "code",
   "execution_count": null,
   "id": "7a887d0c-bdc9-4a87-b067-9687b2dc5ba3",
   "metadata": {},
   "outputs": [],
   "source": [
    "%timeit vmap(grad(root))(x)"
   ]
  },
  {
   "cell_type": "code",
   "execution_count": null,
   "id": "5b5268de-f24b-436f-9f25-44c31600f21b",
   "metadata": {},
   "outputs": [],
   "source": [
    "%timeit jax_root(x)"
   ]
  },
  {
   "cell_type": "code",
   "execution_count": null,
   "id": "6be1ee8d-65af-4699-ae2a-ab01ea98f3a1",
   "metadata": {},
   "outputs": [],
   "source": [
    "%timeit  vmap(grad(jax_root))(x)"
   ]
  },
  {
   "cell_type": "markdown",
   "id": "d0f6b2c8-0f31-4139-8674-e0700c662b65",
   "metadata": {},
   "source": [
    "# Profiling"
   ]
  },
  {
   "cell_type": "code",
   "execution_count": null,
   "id": "585183c9-65bd-43ef-b551-023d68420d13",
   "metadata": {},
   "outputs": [],
   "source": [
    "import jax.profiler"
   ]
  },
  {
   "cell_type": "code",
   "execution_count": null,
   "id": "e9499bf6-5b03-4124-92ad-4a641615df49",
   "metadata": {},
   "outputs": [],
   "source": []
  }
 ],
 "metadata": {
  "kernelspec": {
   "display_name": "jaxkernel",
   "language": "python",
   "name": "jaxkernel"
  },
  "language_info": {
   "codemirror_mode": {
    "name": "ipython",
    "version": 3
   },
   "file_extension": ".py",
   "mimetype": "text/x-python",
   "name": "python",
   "nbconvert_exporter": "python",
   "pygments_lexer": "ipython3",
   "version": "3.8.8"
  },
  "toc": {
   "base_numbering": 1,
   "nav_menu": {},
   "number_sections": true,
   "sideBar": true,
   "skip_h1_title": false,
   "title_cell": "Table of Contents",
   "title_sidebar": "Contents",
   "toc_cell": false,
   "toc_position": {},
   "toc_section_display": true,
   "toc_window_display": false
  }
 },
 "nbformat": 4,
 "nbformat_minor": 5
}
