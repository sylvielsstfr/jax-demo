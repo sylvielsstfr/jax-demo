{
 "cells": [
  {
   "cell_type": "code",
   "execution_count": 1,
   "id": "fdad40d1-5dd6-4705-9939-5bb0ca53c7e4",
   "metadata": {},
   "outputs": [
    {
     "name": "stderr",
     "output_type": "stream",
     "text": [
      "2021-09-10 16:01:56.888920: W external/org_tensorflow/tensorflow/stream_executor/platform/default/dso_loader.cc:64] Could not load dynamic library 'libcudart.so.10.2'; dlerror: libcudart.so.10.2: cannot open shared object file: No such file or directory; LD_LIBRARY_PATH: \n",
      "2021-09-10 16:01:57.404652: W external/org_tensorflow/tensorflow/stream_executor/platform/default/dso_loader.cc:64] Could not load dynamic library 'libcudart.so.10.2'; dlerror: libcudart.so.10.2: cannot open shared object file: No such file or directory; LD_LIBRARY_PATH: \n",
      "2021-09-10 16:01:57.414529: W external/org_tensorflow/tensorflow/stream_executor/platform/default/dso_loader.cc:64] Could not load dynamic library 'libcudart.so.10.2'; dlerror: libcudart.so.10.2: cannot open shared object file: No such file or directory; LD_LIBRARY_PATH: \n"
     ]
    }
   ],
   "source": [
    "import jax\n",
    "import jax.numpy as jnp\n",
    "from jax import grad, jit, vmap\n",
    "from jax import jacfwd, jacrev, hessian\n",
    "from jax.ops import index, index_update\n",
    "import numpy as np\n",
    "import matplotlib as mpl\n",
    "import matplotlib.pyplot as plt\n",
    "mpl.rc('image', cmap='jet')\n",
    "mpl.rcParams['font.size'] = 18\n",
    "mpl.rcParams[\"font.family\"] = \"Times New Roman\""
   ]
  },
  {
   "cell_type": "markdown",
   "id": "4772f69c-57d6-4019-9335-dbfb11244106",
   "metadata": {},
   "source": [
    "# Premiers pas"
   ]
  },
  {
   "cell_type": "code",
   "execution_count": 3,
   "id": "ae3c81e8-b926-4be9-b696-f445ac381b59",
   "metadata": {},
   "outputs": [
    {
     "name": "stderr",
     "output_type": "stream",
     "text": [
      "2021-09-10 09:40:44.204117: W external/org_tensorflow/tensorflow/stream_executor/platform/default/dso_loader.cc:64] Could not load dynamic library 'libcuda.so.1'; dlerror: libcuda.so.1: cannot open shared object file: No such file or directory; LD_LIBRARY_PATH: \n",
      "2021-09-10 09:40:44.204202: W external/org_tensorflow/tensorflow/stream_executor/cuda/cuda_driver.cc:269] failed call to cuInit: UNKNOWN ERROR (303)\n",
      "WARNING:absl:No GPU/TPU found, falling back to CPU. (Set TF_CPP_MIN_LOG_LEVEL=0 and rerun for more info.)\n"
     ]
    }
   ],
   "source": [
    "x = np.linspace(0 ,1 ,10) \n",
    "y = jnp.linspace(0 ,2 ,10)"
   ]
  },
  {
   "cell_type": "code",
   "execution_count": 4,
   "id": "da512c73-7552-4bb1-998c-38c6bd7c8e0b",
   "metadata": {},
   "outputs": [
    {
     "data": {
      "text/plain": [
       "(array([0.        , 0.11111111, 0.22222222, 0.33333333, 0.44444444,\n",
       "        0.55555556, 0.66666667, 0.77777778, 0.88888889, 1.        ]),\n",
       " DeviceArray([0.        , 0.22222222, 0.44444445, 0.6666667 , 0.8888889 ,\n",
       "              1.1111112 , 1.3333334 , 1.5555556 , 1.7777778 , 2.        ],            dtype=float32))"
      ]
     },
     "execution_count": 4,
     "metadata": {},
     "output_type": "execute_result"
    }
   ],
   "source": [
    "x,y"
   ]
  },
  {
   "cell_type": "code",
   "execution_count": 5,
   "id": "e736c321-f6de-4e84-8330-c0e5efe931c6",
   "metadata": {},
   "outputs": [
    {
     "ename": "TypeError",
     "evalue": "'<class 'jaxlib.xla_extension.DeviceArray'>' object does not support item assignment. JAX arrays are immutable. Instead of ``x[idx] = y``, use ``x = x.at[idx].set(y)`` or another .at[] method: https://jax.readthedocs.io/en/latest/jax.ops.html",
     "output_type": "error",
     "traceback": [
      "\u001b[0;31m---------------------------------------------------------------------------\u001b[0m",
      "\u001b[0;31mTypeError\u001b[0m                                 Traceback (most recent call last)",
      "\u001b[0;32m/tmp/ipykernel_2843/1144342640.py\u001b[0m in \u001b[0;36m<module>\u001b[0;34m\u001b[0m\n\u001b[0;32m----> 1\u001b[0;31m \u001b[0my\u001b[0m\u001b[0;34m[\u001b[0m\u001b[0;36m1\u001b[0m\u001b[0;34m]\u001b[0m \u001b[0;34m*=\u001b[0m \u001b[0;34m-\u001b[0m\u001b[0;36m1\u001b[0m\u001b[0;34m\u001b[0m\u001b[0;34m\u001b[0m\u001b[0m\n\u001b[0m",
      "\u001b[0;32m~/.local/lib/python3.8/site-packages/jax/_src/numpy/lax_numpy.py\u001b[0m in \u001b[0;36m_unimplemented_setitem\u001b[0;34m(self, i, x)\u001b[0m\n\u001b[1;32m   6026\u001b[0m          \u001b[0;34m\"or another .at[] method: \"\u001b[0m\u001b[0;34m\u001b[0m\u001b[0;34m\u001b[0m\u001b[0m\n\u001b[1;32m   6027\u001b[0m          \"https://jax.readthedocs.io/en/latest/jax.ops.html\")\n\u001b[0;32m-> 6028\u001b[0;31m   \u001b[0;32mraise\u001b[0m \u001b[0mTypeError\u001b[0m\u001b[0;34m(\u001b[0m\u001b[0mmsg\u001b[0m\u001b[0;34m.\u001b[0m\u001b[0mformat\u001b[0m\u001b[0;34m(\u001b[0m\u001b[0mtype\u001b[0m\u001b[0;34m(\u001b[0m\u001b[0mself\u001b[0m\u001b[0;34m)\u001b[0m\u001b[0;34m)\u001b[0m\u001b[0;34m)\u001b[0m\u001b[0;34m\u001b[0m\u001b[0;34m\u001b[0m\u001b[0m\n\u001b[0m\u001b[1;32m   6029\u001b[0m \u001b[0;34m\u001b[0m\u001b[0m\n\u001b[1;32m   6030\u001b[0m \u001b[0;32mdef\u001b[0m \u001b[0m_operator_round\u001b[0m\u001b[0;34m(\u001b[0m\u001b[0mnumber\u001b[0m\u001b[0;34m,\u001b[0m \u001b[0mndigits\u001b[0m\u001b[0;34m=\u001b[0m\u001b[0;32mNone\u001b[0m\u001b[0;34m)\u001b[0m\u001b[0;34m:\u001b[0m\u001b[0;34m\u001b[0m\u001b[0;34m\u001b[0m\u001b[0m\n",
      "\u001b[0;31mTypeError\u001b[0m: '<class 'jaxlib.xla_extension.DeviceArray'>' object does not support item assignment. JAX arrays are immutable. Instead of ``x[idx] = y``, use ``x = x.at[idx].set(y)`` or another .at[] method: https://jax.readthedocs.io/en/latest/jax.ops.html"
     ]
    }
   ],
   "source": [
    "y[1] *= -1"
   ]
  },
  {
   "cell_type": "code",
   "execution_count": 6,
   "id": "10e49819-7f89-4fb6-b0f1-0836026fea77",
   "metadata": {},
   "outputs": [],
   "source": [
    "y = y.at[1].mul(-1)"
   ]
  },
  {
   "cell_type": "code",
   "execution_count": 7,
   "id": "e3e04deb-c136-42e3-ad5d-8884a398d4b9",
   "metadata": {},
   "outputs": [
    {
     "data": {
      "text/plain": [
       "DeviceArray([ 0.        , -0.22222222,  0.44444445,  0.6666667 ,\n",
       "              0.8888889 ,  1.1111112 ,  1.3333334 ,  1.5555556 ,\n",
       "              1.7777778 ,  2.        ], dtype=float32)"
      ]
     },
     "execution_count": 7,
     "metadata": {},
     "output_type": "execute_result"
    }
   ],
   "source": [
    "y"
   ]
  },
  {
   "cell_type": "code",
   "execution_count": 8,
   "id": "86738265-7d80-43ac-8a72-71e8c7bd60ce",
   "metadata": {},
   "outputs": [
    {
     "data": {
      "text/plain": [
       "<matplotlib.collections.PathCollection at 0x7fb23c542760>"
      ]
     },
     "execution_count": 8,
     "metadata": {},
     "output_type": "execute_result"
    },
    {
     "name": "stderr",
     "output_type": "stream",
     "text": [
      "WARNING:matplotlib.font_manager:findfont: Font family ['Times New Roman'] not found. Falling back to DejaVu Sans.\n"
     ]
    },
    {
     "data": {
      "image/png": "[encoded data removed]",
      "text/plain": [
       "<Figure size 432x288 with 1 Axes>"
      ]
     },
     "metadata": {
      "needs_background": "light"
     },
     "output_type": "display_data"
    }
   ],
   "source": [
    "plt.scatter(x,y)"
   ]
  },
  {
   "cell_type": "markdown",
   "id": "02372e9d-91f0-46d9-8498-130b89e7a6be",
   "metadata": {},
   "source": [
    "# Variations autour d'une fonction simple"
   ]
  },
  {
   "cell_type": "markdown",
   "id": "f8daf0a3-4f27-4940-ad04-56263b561dc6",
   "metadata": {},
   "source": [
    "## Dérivées successives"
   ]
  },
  {
   "cell_type": "code",
   "execution_count": 9,
   "id": "c4cfaa5d-212a-4429-9b94-86cf20e2d253",
   "metadata": {},
   "outputs": [],
   "source": [
    "def f(x):\n",
    "    return jnp.exp(-x*0.5)*jnp.sin(x)"
   ]
  },
  {
   "cell_type": "code",
   "execution_count": 10,
   "id": "5e07a143-5e23-42ca-aeac-08aebcccb61a",
   "metadata": {},
   "outputs": [],
   "source": [
    "def fp(x):\n",
    "    return jnp.exp(-x*0.5)*(2.*jnp.cos(x)-jnp.sin(x))/2.\n",
    "def fpp(x):\n",
    "    return -jnp.exp(-x*0.5)*(4.*jnp.cos(x)+3.*jnp.sin(x))/4."
   ]
  },
  {
   "cell_type": "code",
   "execution_count": 11,
   "id": "d00c9864-b756-4ab9-ad9a-9676152e5b5f",
   "metadata": {},
   "outputs": [],
   "source": [
    "jfp  = jax.vmap(lambda t:grad(f)(t))\n",
    "jfpp = jax.vmap(lambda t:grad(grad(f))(t))"
   ]
  },
  {
   "cell_type": "code",
   "execution_count": 12,
   "id": "deee2d58-5b80-4616-b841-b70223a0922c",
   "metadata": {},
   "outputs": [
    {
     "data": {
      "image/png": "[encoded data removed]",
      "text/plain": [
       "<Figure size 576x576 with 1 Axes>"
      ]
     },
     "metadata": {
      "needs_background": "light"
     },
     "output_type": "display_data"
    }
   ],
   "source": [
    "fig,_ = plt.subplots(figsize=(8,8))\n",
    "x=jnp.arange(0,10,0.1)\n",
    "plt.plot(x,f(x), label=\"$f(x)$\")\n",
    "plt.plot(x,jfp(x), lw=3,label=\"$f^{\\ \\prime}(x)$\")\n",
    "plt.plot(x,fp(x),ls=\"--\",c='k', label=\"$f^{\\ \\prime}(x)$ (exact)\")\n",
    "plt.plot(x,jfpp(x), lw=3,label=\"$f^{\\ \\prime\\prime}(x)$\")\n",
    "plt.plot(x,fpp(x),ls=\"--\", c='purple',label=\"$f^{\\ \\prime\\prime}(x)$ (exact)\")\n",
    "plt.grid()\n",
    "plt.xlabel(\"$x$\")\n",
    "plt.legend();"
   ]
  },
  {
   "cell_type": "markdown",
   "id": "86244d93-f14c-4cdb-a370-ab4efb423667",
   "metadata": {},
   "source": [
    "## Fit simple"
   ]
  },
  {
   "cell_type": "code",
   "execution_count": 13,
   "id": "4c4ad4c7-eff5-4d12-a4c7-092a563aeccb",
   "metadata": {},
   "outputs": [],
   "source": [
    "def f(p,x):\n",
    "    return jnp.exp(-x*p[0])*jnp.sin(x*p[1])"
   ]
  },
  {
   "cell_type": "code",
   "execution_count": 14,
   "id": "d3d5d8ed-0853-467a-8c87-eb2cfdf4af1e",
   "metadata": {},
   "outputs": [],
   "source": [
    "ptrue = np.array([0.5,1])\n",
    "ftrue = lambda x: f(ptrue, x)"
   ]
  },
  {
   "cell_type": "code",
   "execution_count": 16,
   "id": "55e8cb2b-80b0-465e-b631-6382e9dc7025",
   "metadata": {},
   "outputs": [],
   "source": [
    "xin = np.arange(0,10,1.)\n",
    "yerr = 0.05\n",
    "yin = ftrue(xin)+np.random.normal(scale=yerr,size=xin.shape)"
   ]
  },
  {
   "cell_type": "code",
   "execution_count": 17,
   "id": "ac319236-2a1d-4a9a-a0d9-22839b183d0a",
   "metadata": {},
   "outputs": [],
   "source": [
    "def model(p, xi):\n",
    "    return f(p,xi)\n",
    "\n",
    "def mse(y_hat, y):\n",
    "    return jnp.power(y_hat - y, 2).mean()\n",
    "\n",
    "def loss_fun(p, xi, yi):\n",
    "    yhat = model(p, xi)\n",
    "    return mse(yhat, yi)"
   ]
  },
  {
   "cell_type": "code",
   "execution_count": 18,
   "id": "65400f07-4bf8-4830-96c3-2ecc777fe2d8",
   "metadata": {},
   "outputs": [],
   "source": [
    "#@jit\n",
    "def gradient_descent_step(p, xi, yi, lr=1e-1):\n",
    "    return p - lr * jax.grad(loss_fun)(p, xi, yi)"
   ]
  },
  {
   "cell_type": "code",
   "execution_count": 19,
   "id": "29311585-5632-4540-94ad-17e9ab8b7843",
   "metadata": {},
   "outputs": [
    {
     "name": "stdout",
     "output_type": "stream",
     "text": [
      "8.0\n",
      "8.0\n",
      "6.0\n",
      "(DeviceArray(8., dtype=float32), DeviceArray(6., dtype=float32))\n"
     ]
    }
   ],
   "source": [
    "def func(x, y):\n",
    "    return 2 * x * y\n",
    "\n",
    "print(grad(func)(3., 4.))  # 8.\n",
    "print(grad(func, argnums=0)(3., 4.))  # 8.\n",
    "print(grad(func, argnums=1)(3., 4.))  # 6\n",
    "print(grad(func, argnums=(0, 1))(3., 4.))  # (8., 6.)"
   ]
  },
  {
   "cell_type": "code",
   "execution_count": 20,
   "id": "f65cdbe4-8cd2-43aa-b32b-490ef2033f73",
   "metadata": {},
   "outputs": [
    {
     "name": "stdout",
     "output_type": "stream",
     "text": [
      "0 [0.1 0.5] nan\n",
      "100 [0.4574501 0.8566841] 0.0007260848\n",
      "200 [0.44926888 0.896838  ] 7.625353e-05\n",
      "300 [0.44856405 0.9009106 ] 7.405892e-06\n",
      "400 [0.44851232 0.9013086 ] 7.2143786e-07\n",
      "500 [0.44850817 0.9013473 ] 8.4293696e-08\n",
      "Converged after 545 epochs: p = [0.4485081  0.90135014]\n"
     ]
    }
   ],
   "source": [
    "p_cur = jnp.array([0.1, 0.5])\n",
    "rel_err=np.nan\n",
    "for t in range(1000):\n",
    "\n",
    "    if (t % 100) == 0:\n",
    "        print(t, p_cur,rel_err)\n",
    "\n",
    "    new_p = gradient_descent_step(p_cur, xin,yin)\n",
    "\n",
    "    rel_err = jnp.sqrt(jnp.mean((p_cur - new_p)**2))\n",
    "    if rel_err < 1e-9:\n",
    "        print(f\"Converged after {t} epochs: p = {new_p}\")\n",
    "        break\n",
    "\n",
    "    p_cur = new_p"
   ]
  },
  {
   "cell_type": "markdown",
   "id": "11da4736-63df-488a-8230-a8c438d564d5",
   "metadata": {},
   "source": [
    "## Méthode de Newton: le Hessien"
   ]
  },
  {
   "cell_type": "code",
   "execution_count": 21,
   "id": "d5c3f95c-f4b8-4794-a7b7-134978e6a003",
   "metadata": {},
   "outputs": [],
   "source": [
    "gLoss = lambda p,xi,yi: jacfwd(loss_fun)(p,xi,yi)\n",
    "hLoss = lambda p,xi,yi: jax.hessian(loss_fun)(p,xi,yi)\n",
    "\n",
    "#@jit\n",
    "def oneStepNewton(p,xi,yi,lr=0.1):\n",
    "    return p - lr*jnp.linalg.inv(hLoss(p,xi,yi)) @ gLoss(p,xi,yi)"
   ]
  },
  {
   "cell_type": "code",
   "execution_count": 22,
   "id": "72e823db-c83e-4d87-b5b3-a791f37e5065",
   "metadata": {},
   "outputs": [
    {
     "name": "stdout",
     "output_type": "stream",
     "text": [
      "0 [0.1 0.5] nan\n",
      "100 [0.4484519 0.9013599] 4.434842e-06\n",
      "Converged after 156 epochs: p = [0.4485075 0.9013517]\n"
     ]
    }
   ],
   "source": [
    "p_cur = jnp.array([0.1, 0.5])\n",
    "rel_err=np.nan\n",
    "for t in range(5000):\n",
    "\n",
    "    if (t % 100) == 0:\n",
    "        print(t, p_cur,rel_err)\n",
    "\n",
    "    new_p = oneStepNewton(p_cur, xin,yin)\n",
    "\n",
    "    rel_err = jnp.sqrt(jnp.mean((p_cur - new_p)**2))\n",
    "    if rel_err < 1e-9:\n",
    "        print(f\"Converged after {t} epochs: p = {new_p}\")\n",
    "        break\n",
    "\n",
    "    p_cur = new_p"
   ]
  },
  {
   "cell_type": "markdown",
   "id": "b914abd1-5ab6-4ea8-a105-4ae3696f847b",
   "metadata": {},
   "source": [
    "# Un autre type d'optimisation"
   ]
  },
  {
   "cell_type": "code",
   "execution_count": 23,
   "id": "ec573993-5789-4b69-acc2-10289f9f55fd",
   "metadata": {},
   "outputs": [],
   "source": [
    "# Volume de la boite \n",
    "def vol(x): \n",
    "    return x[0]*x[1]*x[2]\n",
    "# Surface de la boite\n",
    "def surf(x):\n",
    "    return 2.*(x[0]*x[1]+x[0]*x[2]+x[1]*x[2])\n",
    "# Constrainte sur la surface\n",
    "def g(x): return surf(x) - 24\n",
    "\n",
    "#Lagrangien : p[0:3] = (x1,x2,x3), p[3] = multiplicateur de lagrange\n",
    "def Lag(p): \n",
    "    return vol(p[0:3]) - p[3]*g(p[0:3])"
   ]
  },
  {
   "cell_type": "code",
   "execution_count": 24,
   "id": "53dda94a-4af0-4ec1-918e-0bca8b12d996",
   "metadata": {},
   "outputs": [],
   "source": [
    "#Gradient Lagrangien\n",
    "gLag = jacfwd(Lag)\n",
    "hLag = hessian(Lag)\n",
    "#@jit\n",
    "def solveLagrangian(p,lr=0.1): \n",
    "    return p - lr*jnp.linalg.inv(hLag(p)) @ gLag(p)"
   ]
  },
  {
   "cell_type": "code",
   "execution_count": 25,
   "id": "7bd6fdbd-50c9-499b-895b-28c4bd82a68f",
   "metadata": {},
   "outputs": [
    {
     "name": "stdout",
     "output_type": "stream",
     "text": [
      "0 [1.5 0.5 1.  0.1]\n",
      "10 [1.8335831  1.5516778  1.7771686  0.40679324]\n",
      "20 [1.9443337  1.8488717  1.9288238  0.46981663]\n",
      "30 [1.9808731  1.9478556  1.9758338  0.48971188]\n",
      "40 [1.9933647  1.9818827  1.9916482  0.49643993]\n",
      "50 [1.9976906  1.9936905  1.9970968  0.49876192]\n",
      "60 [1.9991952  1.997801   1.9989886  0.49956873]\n",
      "70 [1.9997195  1.9992332  1.9996475  0.49984968]\n",
      "80 [1.9999021  1.9997327  1.9998771  0.49994758]\n",
      "90 [1.9999659  1.9999067  1.9999571  0.49998173]\n",
      "100 [1.9999882  1.9999673  1.999985   0.49999362]\n",
      "110 [1.999996   1.9999887  1.9999948  0.49999774]\n",
      "Converged after 112 epochs\n",
      "p_fin:  [1.9999967  1.9999908  1.9999957  0.49999818] : True x=y=z=2\n",
      "v_fin:  7.999933 : True vol  = 2^3\n",
      "s_fin:  23.999866 : True surf = 24\n"
     ]
    }
   ],
   "source": [
    "p_cur = jnp.array([1.5,0.5,1.0,0.1])\n",
    "\n",
    "for t in range(200):\n",
    "\n",
    "    if (t % 10) == 0:\n",
    "        print(t, p_cur)\n",
    "\n",
    "    new_p = solveLagrangian(p_cur)\n",
    "    \n",
    "    rel_err = jnp.max(jnp.abs(p_cur - new_p))\n",
    "    if rel_err < 1e-6:\n",
    "        print(f\"Converged after {t} epochs\")\n",
    "        break\n",
    "    \n",
    "    p_cur = new_p\n",
    "\n",
    "p_fin=p_cur\n",
    "v_fin = vol(p_fin[0:3])\n",
    "s_fin = surf(p_fin[0:3])\n",
    "\n",
    "print(\"p_fin: \",p_fin,\": True x=y=z=2\")\n",
    "print(\"v_fin: \",v_fin,\": True vol  = 2^3\")\n",
    "print(\"s_fin: \",s_fin,\": True surf = 24\")"
   ]
  },
  {
   "cell_type": "code",
   "execution_count": 26,
   "id": "8eb64352-500e-4b8f-b533-de80245a9884",
   "metadata": {},
   "outputs": [],
   "source": [
    "#@jit\n",
    "def solveLagrangian(p,lr=0.01): \n",
    "    return p - lr*jnp.linalg.inv(hLag(p)) @ gLag(p)\n",
    "\n",
    "vfuncsLAG = vmap(solveLagrangian)\n",
    "key = jax.random.PRNGKey(0)\n",
    "p_cur = jax.random.uniform(key, shape=(100,4), dtype='float32', minval=0., maxval=5.0)"
   ]
  },
  {
   "cell_type": "code",
   "execution_count": 27,
   "id": "35a0e45e-b71d-492f-beca-24979d19da8a",
   "metadata": {},
   "outputs": [],
   "source": [
    "for t in range(3000):\n",
    "    p_cur = vfuncsLAG(p_cur)"
   ]
  },
  {
   "cell_type": "code",
   "execution_count": 28,
   "id": "7196c184-f6ab-4d0b-bdf0-289ff4633422",
   "metadata": {},
   "outputs": [],
   "source": [
    "maxfunc  = jax.vmap(vol)\n",
    "maximums = maxfunc(p_cur)"
   ]
  },
  {
   "cell_type": "code",
   "execution_count": 29,
   "id": "fc7b5bb5-9ef6-4ee0-b953-aa3dfd468f8f",
   "metadata": {},
   "outputs": [
    {
     "name": "stdout",
     "output_type": "stream",
     "text": [
      "The max. volume is 8.000012, the lengthes are (2.000001,2.000001,2.000001)\n"
     ]
    }
   ],
   "source": [
    "arglist = jnp.nanargmax(maximums)\n",
    "argmax = p_cur[arglist]\n",
    "maxvol = maximums[arglist]\n",
    "print(f\"The max. volume is {maxvol:.6f}, the lengthes are ({argmax[0]:.6f},{argmax[1]:.6f},{argmax[2]:.6f})\")"
   ]
  },
  {
   "cell_type": "markdown",
   "id": "d6458883-fff0-4514-8d43-2590552b3f74",
   "metadata": {},
   "source": [
    "# JIT: quelques exemples\n",
    "\n",
    "Une chose qu'il est possible de faire pour se rendre compte de l'effet de JIT c'est de décommenter dans les cellules précédentes les lignes \"@jit\" (décorateur Python) et de réexecuter le notebook."
   ]
  },
  {
   "cell_type": "code",
   "execution_count": 41,
   "id": "619846ca-76ec-4cea-a396-99b027c1d314",
   "metadata": {},
   "outputs": [],
   "source": [
    "def simps(f, a, b, N):\n",
    "    #N doit etre paire\n",
    "    dx = (b - a) / N\n",
    "    x = np.linspace(a, b, N + 1)\n",
    "    y = f(x)\n",
    "    w = np.ones_like(y)\n",
    "    w[2:-1:2] = 2.\n",
    "    w[1::2]   = 4.\n",
    "    S = dx / 3 * np.einsum(\"i...,i...\",w,y)\n",
    "    return S"
   ]
  },
  {
   "cell_type": "code",
   "execution_count": 51,
   "id": "5fbe232c-587d-4d98-ab51-379c3b4a8252",
   "metadata": {},
   "outputs": [],
   "source": [
    "def funcN(x):\n",
    "    return np.stack([x**(i/10) * np.exp(-x) for i in range(200)],axis=1)"
   ]
  },
  {
   "cell_type": "code",
   "execution_count": 52,
   "id": "86658a3c-59b6-4c16-b7fd-79cedb524776",
   "metadata": {},
   "outputs": [],
   "source": [
    "a = np.arange(0,10,0.1)"
   ]
  },
  {
   "cell_type": "code",
   "execution_count": 53,
   "id": "2cff4cf2-28ae-45aa-9756-638d589f5fee",
   "metadata": {},
   "outputs": [],
   "source": [
    "b=a+0.05"
   ]
  },
  {
   "cell_type": "code",
   "execution_count": 63,
   "id": "d2d2d9f3-0b03-4d24-a3b4-3866116ca601",
   "metadata": {},
   "outputs": [
    {
     "data": {
      "text/plain": [
       "array([0.05, 0.15, 0.25, 0.35, 0.45, 0.55, 0.65, 0.75, 0.85, 0.95, 1.05,\n",
       "       1.15, 1.25, 1.35, 1.45, 1.55, 1.65, 1.75, 1.85, 1.95, 2.05, 2.15,\n",
       "       2.25, 2.35, 2.45, 2.55, 2.65, 2.75, 2.85, 2.95, 3.05, 3.15, 3.25,\n",
       "       3.35, 3.45, 3.55, 3.65, 3.75, 3.85, 3.95, 4.05, 4.15, 4.25, 4.35,\n",
       "       4.45, 4.55, 4.65, 4.75, 4.85, 4.95, 5.05, 5.15, 5.25, 5.35, 5.45,\n",
       "       5.55, 5.65, 5.75, 5.85, 5.95, 6.05, 6.15, 6.25, 6.35, 6.45, 6.55,\n",
       "       6.65, 6.75, 6.85, 6.95, 7.05, 7.15, 7.25, 7.35, 7.45, 7.55, 7.65,\n",
       "       7.75, 7.85, 7.95, 8.05, 8.15, 8.25, 8.35, 8.45, 8.55, 8.65, 8.75,\n",
       "       8.85, 8.95, 9.05, 9.15, 9.25, 9.35, 9.45, 9.55, 9.65, 9.75, 9.85,\n",
       "       9.95])"
      ]
     },
     "execution_count": 63,
     "metadata": {},
     "output_type": "execute_result"
    }
   ],
   "source": [
    "b"
   ]
  },
  {
   "cell_type": "code",
   "execution_count": 70,
   "id": "a65e45f3-4c4e-4227-99fd-57bd65f7fa35",
   "metadata": {},
   "outputs": [
    {
     "data": {
      "text/plain": [
       "numpy.float64"
      ]
     },
     "execution_count": 70,
     "metadata": {},
     "output_type": "execute_result"
    }
   ],
   "source": [
    "type(b[0])"
   ]
  },
  {
   "cell_type": "code",
   "execution_count": 56,
   "id": "fa0a5180-8938-40fe-8819-4541fc5b8347",
   "metadata": {},
   "outputs": [
    {
     "name": "stdout",
     "output_type": "stream",
     "text": [
      "1.13 s ± 27.4 ms per loop (mean ± std. dev. of 7 runs, 1 loop each)\n"
     ]
    }
   ],
   "source": [
    "%timeit simps(funcN,a,b, 512)"
   ]
  },
  {
   "cell_type": "code",
   "execution_count": 94,
   "id": "5a34c4f6-2ef2-451f-8d5c-865ce8490882",
   "metadata": {},
   "outputs": [],
   "source": [
    "tmp0 = simps(funcN,a,b, 512)"
   ]
  },
  {
   "cell_type": "code",
   "execution_count": 95,
   "id": "0919ae8d-3385-4653-a085-8f5f4f54335f",
   "metadata": {},
   "outputs": [
    {
     "data": {
      "text/plain": [
       "(200, 100)"
      ]
     },
     "execution_count": 95,
     "metadata": {},
     "output_type": "execute_result"
    }
   ],
   "source": [
    "tmp0.shape"
   ]
  },
  {
   "cell_type": "code",
   "execution_count": 97,
   "id": "d45e7ee5-8e50-419d-8a7d-a3f701547f3d",
   "metadata": {},
   "outputs": [],
   "source": [
    "from functools import partial\n",
    "from jax.config import config\n",
    "config.update(\"jax_enable_x64\", True)"
   ]
  },
  {
   "cell_type": "code",
   "execution_count": 72,
   "id": "6b15a94b-d63b-4a89-8adf-429a7f35ffdd",
   "metadata": {},
   "outputs": [],
   "source": [
    "@partial(jit, static_argnums=(0,3))\n",
    "def jax_simps(f, a,b, N):\n",
    "    dx = (b - a) / N\n",
    "    x = jnp.linspace(a, b, N + 1)\n",
    "    y = f(x)\n",
    "    w = jnp.ones_like(y)\n",
    "    w = w.at[2:-1:2].set(2.)\n",
    "    w = w.at[1::2].set(4.)\n",
    "    S = dx / 3. * jnp.einsum('i...,i...',w,y)\n",
    "    return S"
   ]
  },
  {
   "cell_type": "code",
   "execution_count": 77,
   "id": "3dfb75fe-2de4-4133-a4de-4f4ab6c62200",
   "metadata": {},
   "outputs": [],
   "source": [
    "@jit\n",
    "def jax_funcN(x):\n",
    "    return jnp.stack([x**(i/10) * jnp.exp(-x) for i in range(200)],axis=1)"
   ]
  },
  {
   "cell_type": "code",
   "execution_count": 78,
   "id": "b3ddbd4f-b39e-4514-a7ea-43b8f6596d6b",
   "metadata": {},
   "outputs": [],
   "source": [
    "ja = jnp.arange(0,10,0.1)\n",
    "jb = ja+0.05"
   ]
  },
  {
   "cell_type": "code",
   "execution_count": 96,
   "id": "eb079354-2e5a-449e-a432-ce8a863b7499",
   "metadata": {},
   "outputs": [
    {
     "name": "stdout",
     "output_type": "stream",
     "text": [
      "919 ms ± 38.1 ms per loop (mean ± std. dev. of 7 runs, 1 loop each)\n"
     ]
    }
   ],
   "source": [
    "tmp1 = jax_simps(jax_funcN,ja,jb, 512).block_until_ready() \n",
    "%timeit jax_simps(jax_funcN,ja,jb, 512).block_until_ready() "
   ]
  },
  {
   "cell_type": "markdown",
   "id": "3cc376c4-a12c-4d66-8829-736113fb65f2",
   "metadata": {},
   "source": [
    "# JIT recompilation"
   ]
  },
  {
   "cell_type": "code",
   "execution_count": 168,
   "id": "18e96582-7ca4-47de-9038-8ddeaa2c7661",
   "metadata": {},
   "outputs": [],
   "source": [
    "def toto(x):\n",
    "    print(\"toto recompile\") # effet de bord\n",
    "    return 2*x\n",
    "@jit\n",
    "def titi(x):\n",
    "    print(\"titi recompile\") # effet de bord\n",
    "    return toto(x)"
   ]
  },
  {
   "cell_type": "code",
   "execution_count": 169,
   "id": "a0473df2-be67-4f83-92e0-3ebb09b4bbcc",
   "metadata": {},
   "outputs": [
    {
     "name": "stdout",
     "output_type": "stream",
     "text": [
      "titi recompile\n",
      "toto recompile\n"
     ]
    },
    {
     "data": {
      "text/plain": [
       "DeviceArray(0., dtype=float64, weak_type=True)"
      ]
     },
     "execution_count": 169,
     "metadata": {},
     "output_type": "execute_result"
    }
   ],
   "source": [
    "titi(0.)"
   ]
  },
  {
   "cell_type": "code",
   "execution_count": 170,
   "id": "32cf09d2-609f-4543-8a14-88f8f111c291",
   "metadata": {},
   "outputs": [
    {
     "data": {
      "text/plain": [
       "DeviceArray(2., dtype=float64, weak_type=True)"
      ]
     },
     "execution_count": 170,
     "metadata": {},
     "output_type": "execute_result"
    }
   ],
   "source": [
    "titi(1.)"
   ]
  },
  {
   "cell_type": "code",
   "execution_count": 171,
   "id": "091a774c-7439-478d-ba2a-bafe3636390c",
   "metadata": {},
   "outputs": [
    {
     "name": "stdout",
     "output_type": "stream",
     "text": [
      "titi recompile\n",
      "toto recompile\n"
     ]
    },
    {
     "data": {
      "text/plain": [
       "DeviceArray(2, dtype=int64, weak_type=True)"
      ]
     },
     "execution_count": 171,
     "metadata": {},
     "output_type": "execute_result"
    }
   ],
   "source": [
    "titi(1)"
   ]
  },
  {
   "cell_type": "code",
   "execution_count": 172,
   "id": "24fb41c7-74c6-4f1d-80d1-d5de00cf24a4",
   "metadata": {},
   "outputs": [
    {
     "data": {
      "text/plain": [
       "DeviceArray(4, dtype=int64, weak_type=True)"
      ]
     },
     "execution_count": 172,
     "metadata": {},
     "output_type": "execute_result"
    }
   ],
   "source": [
    "titi(2)"
   ]
  },
  {
   "cell_type": "code",
   "execution_count": 173,
   "id": "7bd22d7b-da60-4e27-8320-94e15ed47bf5",
   "metadata": {},
   "outputs": [
    {
     "data": {
      "text/plain": [
       "DeviceArray(10., dtype=float64, weak_type=True)"
      ]
     },
     "execution_count": 173,
     "metadata": {},
     "output_type": "execute_result"
    }
   ],
   "source": [
    "titi(5.)"
   ]
  },
  {
   "cell_type": "markdown",
   "id": "b4bab584-fdb6-4fb8-b709-42a5224dd7a8",
   "metadata": {},
   "source": [
    "## JIT et le contrôle \"if-else\""
   ]
  },
  {
   "cell_type": "code",
   "execution_count": 5,
   "id": "fb6b6b47-4624-440a-b456-0d2e4fdb1098",
   "metadata": {},
   "outputs": [],
   "source": [
    "@jit\n",
    "def f(x,alpha=1.67, lambda_=1.05):\n",
    "    if x>0:\n",
    "        return lambda_*x\n",
    "    else:\n",
    "        return lambda_*alpha*(jnp.exp(x) -1)\n"
   ]
  },
  {
   "cell_type": "code",
   "execution_count": 9,
   "id": "6bedcce5-8179-4582-bdef-3c4859dc6581",
   "metadata": {},
   "outputs": [
    {
     "ename": "ConcretizationTypeError",
     "evalue": "Abstract tracer value encountered where concrete value is expected: Traced<ShapedArray(bool[], weak_type=True)>with<DynamicJaxprTrace(level=0/1)>\nThe problem arose with the `bool` function. \nWhile tracing the function f at /tmp/ipykernel_4111/3594871729.py:1 for jit, this concrete value was not available in Python because it depends on the value of the argument 'x'.\n\nSee https://jax.readthedocs.io/en/latest/errors.html#jax.errors.ConcretizationTypeError",
     "output_type": "error",
     "traceback": [
      "\u001b[0;31m---------------------------------------------------------------------------\u001b[0m",
      "\u001b[0;31mConcretizationTypeError\u001b[0m                   Traceback (most recent call last)",
      "\u001b[0;32m/tmp/ipykernel_4111/2165606458.py\u001b[0m in \u001b[0;36m<module>\u001b[0;34m\u001b[0m\n\u001b[0;32m----> 1\u001b[0;31m \u001b[0mf\u001b[0m\u001b[0;34m(\u001b[0m\u001b[0;36m1.\u001b[0m\u001b[0;34m)\u001b[0m\u001b[0;34m\u001b[0m\u001b[0;34m\u001b[0m\u001b[0m\n\u001b[0m",
      "    \u001b[0;31m[... skipping hidden 12 frame]\u001b[0m\n",
      "\u001b[0;32m/tmp/ipykernel_4111/3594871729.py\u001b[0m in \u001b[0;36mf\u001b[0;34m(x, alpha, lambda_)\u001b[0m\n\u001b[1;32m      1\u001b[0m \u001b[0;34m@\u001b[0m\u001b[0mjit\u001b[0m\u001b[0;34m\u001b[0m\u001b[0;34m\u001b[0m\u001b[0m\n\u001b[1;32m      2\u001b[0m \u001b[0;32mdef\u001b[0m \u001b[0mf\u001b[0m\u001b[0;34m(\u001b[0m\u001b[0mx\u001b[0m\u001b[0;34m,\u001b[0m\u001b[0malpha\u001b[0m\u001b[0;34m=\u001b[0m\u001b[0;36m1.67\u001b[0m\u001b[0;34m,\u001b[0m \u001b[0mlambda_\u001b[0m\u001b[0;34m=\u001b[0m\u001b[0;36m1.05\u001b[0m\u001b[0;34m)\u001b[0m\u001b[0;34m:\u001b[0m\u001b[0;34m\u001b[0m\u001b[0;34m\u001b[0m\u001b[0m\n\u001b[0;32m----> 3\u001b[0;31m     \u001b[0;32mif\u001b[0m \u001b[0mx\u001b[0m\u001b[0;34m>\u001b[0m\u001b[0;36m0\u001b[0m\u001b[0;34m:\u001b[0m\u001b[0;34m\u001b[0m\u001b[0;34m\u001b[0m\u001b[0m\n\u001b[0m\u001b[1;32m      4\u001b[0m         \u001b[0;32mreturn\u001b[0m \u001b[0mlambda_\u001b[0m\u001b[0;34m*\u001b[0m\u001b[0mx\u001b[0m\u001b[0;34m\u001b[0m\u001b[0;34m\u001b[0m\u001b[0m\n\u001b[1;32m      5\u001b[0m     \u001b[0;32melse\u001b[0m\u001b[0;34m:\u001b[0m\u001b[0;34m\u001b[0m\u001b[0;34m\u001b[0m\u001b[0m\n",
      "    \u001b[0;31m[... skipping hidden 1 frame]\u001b[0m\n",
      "\u001b[0;32m~/.local/lib/python3.8/site-packages/jax/core.py\u001b[0m in \u001b[0;36merror\u001b[0;34m(self, arg)\u001b[0m\n\u001b[1;32m    987\u001b[0m                       f\"or `jnp.array(x, {fun.__name__})` instead.\")\n\u001b[1;32m    988\u001b[0m   \u001b[0;32mdef\u001b[0m \u001b[0merror\u001b[0m\u001b[0;34m(\u001b[0m\u001b[0mself\u001b[0m\u001b[0;34m,\u001b[0m \u001b[0marg\u001b[0m\u001b[0;34m)\u001b[0m\u001b[0;34m:\u001b[0m\u001b[0;34m\u001b[0m\u001b[0;34m\u001b[0m\u001b[0m\n\u001b[0;32m--> 989\u001b[0;31m     \u001b[0;32mraise\u001b[0m \u001b[0mConcretizationTypeError\u001b[0m\u001b[0;34m(\u001b[0m\u001b[0marg\u001b[0m\u001b[0;34m,\u001b[0m \u001b[0mfname_context\u001b[0m\u001b[0;34m)\u001b[0m\u001b[0;34m\u001b[0m\u001b[0;34m\u001b[0m\u001b[0m\n\u001b[0m\u001b[1;32m    990\u001b[0m   \u001b[0;32mreturn\u001b[0m \u001b[0merror\u001b[0m\u001b[0;34m\u001b[0m\u001b[0;34m\u001b[0m\u001b[0m\n\u001b[1;32m    991\u001b[0m \u001b[0;34m\u001b[0m\u001b[0m\n",
      "\u001b[0;31mConcretizationTypeError\u001b[0m: Abstract tracer value encountered where concrete value is expected: Traced<ShapedArray(bool[], weak_type=True)>with<DynamicJaxprTrace(level=0/1)>\nThe problem arose with the `bool` function. \nWhile tracing the function f at /tmp/ipykernel_4111/3594871729.py:1 for jit, this concrete value was not available in Python because it depends on the value of the argument 'x'.\n\nSee https://jax.readthedocs.io/en/latest/errors.html#jax.errors.ConcretizationTypeError"
     ]
    }
   ],
   "source": [
    "f(1.)"
   ]
  },
  {
   "cell_type": "code",
   "execution_count": 7,
   "id": "70e9ba93-7dd6-481f-8d1a-eae9d35cbd5b",
   "metadata": {},
   "outputs": [],
   "source": [
    "@jit\n",
    "def fok(x,alpha=1.67, lambda_=1.05):\n",
    "        return lambda_*jnp.where(x>0,x,alpha*(jnp.exp(x) -1))"
   ]
  },
  {
   "cell_type": "code",
   "execution_count": 123,
   "id": "f0e71fea-4c77-42ec-9a8f-da7cd346d50d",
   "metadata": {},
   "outputs": [
    {
     "data": {
      "image/png": "[encoded data removed]",
      "text/plain": [
       "<Figure size 432x288 with 1 Axes>"
      ]
     },
     "metadata": {
      "needs_background": "light"
     },
     "output_type": "display_data"
    }
   ],
   "source": [
    "x = jnp.arange(-1,1,0.01)\n",
    "plt.plot(x,vmap(fok)(x))\n",
    "plt.plot(x,vmap(grad(fok))(x)) # le gradient...\n",
    "plt.grid();"
   ]
  },
  {
   "cell_type": "code",
   "execution_count": 12,
   "id": "52937b4a-8f92-43fd-a0ec-3c914212c831",
   "metadata": {},
   "outputs": [],
   "source": [
    "#version Numpy\n",
    "def npok(x,alpha=1.67, lambda_=1.05):\n",
    "        return lambda_*np.where(x>0,x,alpha*(np.exp(x) -1))"
   ]
  },
  {
   "cell_type": "code",
   "execution_count": 17,
   "id": "1e8964ec-aba6-41a8-95a0-18108f797928",
   "metadata": {},
   "outputs": [
    {
     "data": {
      "text/plain": [
       "[<matplotlib.lines.Line2D at 0x7fd77028e220>]"
      ]
     },
     "execution_count": 17,
     "metadata": {},
     "output_type": "execute_result"
    },
    {
     "data": {
      "image/png": "[encoded data removed]",
      "text/plain": [
       "<Figure size 432x288 with 1 Axes>"
      ]
     },
     "metadata": {
      "needs_background": "light"
     },
     "output_type": "display_data"
    }
   ],
   "source": [
    "x = np.arange(-1,1,0.1)\n",
    "plt.plot(x,np.vectorize(npok)(x))"
   ]
  },
  {
   "cell_type": "code",
   "execution_count": 116,
   "id": "3bfb5d02-d0fb-4020-9aa3-9a599184a4f0",
   "metadata": {},
   "outputs": [],
   "source": [
    "@partial(jit, static_argnums=(0,))\n",
    "def f_bof(x,alpha=1.67, lambda_=1.05):\n",
    "    print(x)\n",
    "    if x>0:\n",
    "        return lambda_*x\n",
    "    else:\n",
    "        return lambda_*alpha*(jnp.exp(x) -1)\n"
   ]
  },
  {
   "cell_type": "code",
   "execution_count": 119,
   "id": "c12fae2e-eec7-444a-880c-f046d33f2d5b",
   "metadata": {},
   "outputs": [
    {
     "name": "stdout",
     "output_type": "stream",
     "text": [
      "0.5\n"
     ]
    },
    {
     "data": {
      "text/plain": [
       "DeviceArray(0.525, dtype=float64, weak_type=True)"
      ]
     },
     "execution_count": 119,
     "metadata": {},
     "output_type": "execute_result"
    }
   ],
   "source": [
    "f_bof(0.5)"
   ]
  },
  {
   "cell_type": "code",
   "execution_count": 117,
   "id": "555a4f49-0980-4be0-adf1-970360ef19cf",
   "metadata": {},
   "outputs": [
    {
     "ename": "ValueError",
     "evalue": "Non-hashable static arguments are not supported. An error occured while trying to hash an object of type <class 'jaxlib.xla_extension.DeviceArray'>, [-0.5  0.   0.5]. The error was:\nTypeError: unhashable type: 'DeviceArray'\n",
     "output_type": "error",
     "traceback": [
      "\u001b[0;31m---------------------------------------------------------------------------\u001b[0m",
      "\u001b[0;31mValueError\u001b[0m                                Traceback (most recent call last)",
      "\u001b[0;32m/tmp/ipykernel_4111/3758387251.py\u001b[0m in \u001b[0;36m<module>\u001b[0;34m\u001b[0m\n\u001b[1;32m      1\u001b[0m \u001b[0mx\u001b[0m \u001b[0;34m=\u001b[0m \u001b[0mjnp\u001b[0m\u001b[0;34m.\u001b[0m\u001b[0marray\u001b[0m\u001b[0;34m(\u001b[0m\u001b[0;34m[\u001b[0m\u001b[0;34m-\u001b[0m\u001b[0;36m0.5\u001b[0m\u001b[0;34m,\u001b[0m\u001b[0;36m0.\u001b[0m\u001b[0;34m,\u001b[0m\u001b[0;36m0.5\u001b[0m\u001b[0;34m]\u001b[0m\u001b[0;34m)\u001b[0m\u001b[0;34m\u001b[0m\u001b[0;34m\u001b[0m\u001b[0m\n\u001b[0;32m----> 2\u001b[0;31m \u001b[0mf_bof\u001b[0m\u001b[0;34m(\u001b[0m\u001b[0mx\u001b[0m\u001b[0;34m)\u001b[0m\u001b[0;34m\u001b[0m\u001b[0;34m\u001b[0m\u001b[0m\n\u001b[0m",
      "\u001b[0;31mValueError\u001b[0m: Non-hashable static arguments are not supported. An error occured while trying to hash an object of type <class 'jaxlib.xla_extension.DeviceArray'>, [-0.5  0.   0.5]. The error was:\nTypeError: unhashable type: 'DeviceArray'\n"
     ]
    }
   ],
   "source": [
    "x = jnp.array([-0.5,0.,0.5])\n",
    "f_bof(x)"
   ]
  },
  {
   "cell_type": "code",
   "execution_count": 120,
   "id": "9ca70818-3c52-484a-95ea-3521aa402336",
   "metadata": {},
   "outputs": [
    {
     "ename": "ValueError",
     "evalue": "Non-hashable static arguments are not supported. An error occured while trying to hash an object of type <class 'jax.interpreters.ad.JVPTracer'>, Traced<ConcreteArray(0.5, dtype=float64, weak_type=True)>with<JVPTrace(level=2/0)>\n  with primal = Traced<ConcreteArray(0.5, dtype=float64, weak_type=True):JaxprTrace(level=1/0)>\n       tangent = Traced<ShapedArray(float64[], weak_type=True):JaxprTrace(level=1/0)>. The error was:\nTypeError: unhashable type: 'JVPTracer'\n",
     "output_type": "error",
     "traceback": [
      "\u001b[0;31m---------------------------------------------------------------------------\u001b[0m",
      "\u001b[0;31mValueError\u001b[0m                                Traceback (most recent call last)",
      "\u001b[0;32m/tmp/ipykernel_4111/3741204962.py\u001b[0m in \u001b[0;36m<module>\u001b[0;34m\u001b[0m\n\u001b[0;32m----> 1\u001b[0;31m \u001b[0mgrad\u001b[0m\u001b[0;34m(\u001b[0m\u001b[0mf_bof\u001b[0m\u001b[0;34m)\u001b[0m\u001b[0;34m(\u001b[0m\u001b[0;36m0.5\u001b[0m\u001b[0;34m)\u001b[0m\u001b[0;34m\u001b[0m\u001b[0;34m\u001b[0m\u001b[0m\n\u001b[0m",
      "    \u001b[0;31m[... skipping hidden 8 frame]\u001b[0m\n",
      "\u001b[0;32m~/.local/lib/python3.8/site-packages/jax/linear_util.py\u001b[0m in \u001b[0;36mcall_wrapped\u001b[0;34m(self, *args, **kwargs)\u001b[0m\n\u001b[1;32m    164\u001b[0m \u001b[0;34m\u001b[0m\u001b[0m\n\u001b[1;32m    165\u001b[0m     \u001b[0;32mtry\u001b[0m\u001b[0;34m:\u001b[0m\u001b[0;34m\u001b[0m\u001b[0;34m\u001b[0m\u001b[0m\n\u001b[0;32m--> 166\u001b[0;31m       \u001b[0mans\u001b[0m \u001b[0;34m=\u001b[0m \u001b[0mself\u001b[0m\u001b[0;34m.\u001b[0m\u001b[0mf\u001b[0m\u001b[0;34m(\u001b[0m\u001b[0;34m*\u001b[0m\u001b[0margs\u001b[0m\u001b[0;34m,\u001b[0m \u001b[0;34m**\u001b[0m\u001b[0mdict\u001b[0m\u001b[0;34m(\u001b[0m\u001b[0mself\u001b[0m\u001b[0;34m.\u001b[0m\u001b[0mparams\u001b[0m\u001b[0;34m,\u001b[0m \u001b[0;34m**\u001b[0m\u001b[0mkwargs\u001b[0m\u001b[0;34m)\u001b[0m\u001b[0;34m)\u001b[0m\u001b[0;34m\u001b[0m\u001b[0;34m\u001b[0m\u001b[0m\n\u001b[0m\u001b[1;32m    167\u001b[0m     \u001b[0;32mexcept\u001b[0m\u001b[0;34m:\u001b[0m\u001b[0;34m\u001b[0m\u001b[0;34m\u001b[0m\u001b[0m\n\u001b[1;32m    168\u001b[0m       \u001b[0;31m# Some transformations yield from inside context managers, so we have to\u001b[0m\u001b[0;34m\u001b[0m\u001b[0;34m\u001b[0m\u001b[0;34m\u001b[0m\u001b[0m\n",
      "\u001b[0;31mValueError\u001b[0m: Non-hashable static arguments are not supported. An error occured while trying to hash an object of type <class 'jax.interpreters.ad.JVPTracer'>, Traced<ConcreteArray(0.5, dtype=float64, weak_type=True)>with<JVPTrace(level=2/0)>\n  with primal = Traced<ConcreteArray(0.5, dtype=float64, weak_type=True):JaxprTrace(level=1/0)>\n       tangent = Traced<ShapedArray(float64[], weak_type=True):JaxprTrace(level=1/0)>. The error was:\nTypeError: unhashable type: 'JVPTracer'\n"
     ]
    }
   ],
   "source": [
    "grad(f_bof)(0.5)"
   ]
  },
  {
   "cell_type": "markdown",
   "id": "90a4e30c-4046-46d6-8553-de14800a742d",
   "metadata": {},
   "source": [
    "# JIT est la boucle for-loop"
   ]
  },
  {
   "cell_type": "code",
   "execution_count": 145,
   "id": "c440376a-139d-498b-b606-4ce98c44ca96",
   "metadata": {},
   "outputs": [],
   "source": [
    "@jit\n",
    "def root(x):\n",
    "    val = x\n",
    "    for i in range(0,10):\n",
    "        val = (val+x/val)/2.\n",
    "    return val\n",
    "\n",
    "@jit\n",
    "def jax_root(x):\n",
    "    def body(i,val):\n",
    "        return (val+x/val)/2.\n",
    "    return jax.lax.fori_loop(0,10,body,x)\n",
    "    "
   ]
  },
  {
   "cell_type": "code",
   "execution_count": 159,
   "id": "f5a4099c-5e8e-4295-8f5f-626b843f9bda",
   "metadata": {},
   "outputs": [
    {
     "data": {
      "image/png": "[encoded data removed]",
      "text/plain": [
       "<Figure size 432x288 with 1 Axes>"
      ]
     },
     "metadata": {
      "needs_background": "light"
     },
     "output_type": "display_data"
    }
   ],
   "source": [
    "x = jnp.arange(0,5,0.01)\n",
    "plt.plot(x, root(x))\n",
    "plt.plot(x, vmap(grad(root))(x))\n",
    "plt.plot(x, jnp.sqrt(x), lw=3,ls='--')\n",
    "plt.plot(x, 1/(2*jnp.sqrt(x)), lw=3,ls='--')\n",
    "plt.grid();"
   ]
  },
  {
   "cell_type": "code",
   "execution_count": 160,
   "id": "10fe9e9b-6c83-43c1-88d5-cd793303a57d",
   "metadata": {},
   "outputs": [
    {
     "name": "stdout",
     "output_type": "stream",
     "text": [
      "7.92 µs ± 83.2 ns per loop (mean ± std. dev. of 7 runs, 100000 loops each)\n"
     ]
    }
   ],
   "source": [
    "%timeit root(x)"
   ]
  },
  {
   "cell_type": "code",
   "execution_count": 162,
   "id": "7a887d0c-bdc9-4a87-b067-9687b2dc5ba3",
   "metadata": {},
   "outputs": [
    {
     "name": "stdout",
     "output_type": "stream",
     "text": [
      "6.23 ms ± 360 µs per loop (mean ± std. dev. of 7 runs, 100 loops each)\n"
     ]
    }
   ],
   "source": [
    "%timeit vmap(grad(root))(x)"
   ]
  },
  {
   "cell_type": "code",
   "execution_count": 163,
   "id": "5b5268de-f24b-436f-9f25-44c31600f21b",
   "metadata": {},
   "outputs": [
    {
     "name": "stdout",
     "output_type": "stream",
     "text": [
      "8.54 µs ± 248 ns per loop (mean ± std. dev. of 7 runs, 100000 loops each)\n"
     ]
    }
   ],
   "source": [
    "%timeit jax_root(x)"
   ]
  },
  {
   "cell_type": "code",
   "execution_count": 164,
   "id": "6be1ee8d-65af-4699-ae2a-ab01ea98f3a1",
   "metadata": {},
   "outputs": [
    {
     "name": "stdout",
     "output_type": "stream",
     "text": [
      "2.34 ms ± 171 µs per loop (mean ± std. dev. of 7 runs, 1 loop each)\n"
     ]
    }
   ],
   "source": [
    "%timeit  vmap(grad(jax_root))(x)"
   ]
  },
  {
   "cell_type": "markdown",
   "id": "d0f6b2c8-0f31-4139-8674-e0700c662b65",
   "metadata": {},
   "source": [
    "# Profiling"
   ]
  },
  {
   "cell_type": "code",
   "execution_count": 174,
   "id": "585183c9-65bd-43ef-b551-023d68420d13",
   "metadata": {},
   "outputs": [],
   "source": [
    "import jax.profiler"
   ]
  },
  {
   "cell_type": "code",
   "execution_count": null,
   "id": "e9499bf6-5b03-4124-92ad-4a641615df49",
   "metadata": {},
   "outputs": [],
   "source": []
  }
 ],
 "metadata": {
  "kernelspec": {
   "display_name": "Anaconda3",
   "language": "python",
   "name": "anaconda3"
  },
  "language_info": {
   "codemirror_mode": {
    "name": "ipython",
    "version": 3
   },
   "file_extension": ".py",
   "mimetype": "text/x-python",
   "name": "python",
   "nbconvert_exporter": "python",
   "pygments_lexer": "ipython3",
   "version": "3.8.5"
  }
 },
 "nbformat": 4,
 "nbformat_minor": 5
}
